{
 "cells": [
  {
   "cell_type": "code",
   "execution_count": 1,
   "id": "f847db8e-74c1-4998-b4f8-95c7ce1e25dd",
   "metadata": {},
   "outputs": [],
   "source": [
    "import cv2\n",
    "import numpy as np\n",
    "import pandas as pd\n",
    "import seaborn as sn\n",
    "import glob\n",
    "from numpy import mean\n",
    "from numpy import std\n",
    "from tqdm.notebook import tqdm\n",
    "import dlib\n",
    "from scipy.spatial import distance\n",
    "from imutils import face_utils\n",
    "import statistics\n",
    "import os\n",
    "from mtcnn import MTCNN\n",
    "from sklearn.preprocessing import LabelEncoder\n",
    "import matplotlib.pyplot as plt\n",
    "import seaborn as sns\n",
    "from sklearn.preprocessing import StandardScaler\n",
    "import warnings\n",
    "import  imblearn\n",
    "from imblearn.over_sampling import SMOTE\n",
    "import pandas as pd\n",
    "import researchpy as rp\n",
    "import scipy.stats as stats\n",
    "import matplotlib.patches as mpatches\n",
    "from scipy.stats import pearsonr\n",
    "\n"
   ]
  },
  {
   "cell_type": "code",
   "execution_count": 2,
   "id": "13606e4b-2feb-448d-9f9b-26182c172524",
   "metadata": {},
   "outputs": [],
   "source": [
    "from sklearn.linear_model import LogisticRegression\n",
    "from sklearn.neighbors import KNeighborsClassifier\n",
    "from sklearn.tree import DecisionTreeClassifier\n",
    "from sklearn.svm import SVC\n",
    "from sklearn.naive_bayes import GaussianNB\n",
    "from sklearn.discriminant_analysis import LinearDiscriminantAnalysis\n",
    "from sklearn.cluster import KMeans\n",
    "from sklearn.svm import LinearSVC\n",
    "from sklearn.ensemble import StackingClassifier\n",
    "from sklearn.ensemble import AdaBoostClassifier\n",
    "from sklearn.ensemble import GradientBoostingClassifier\n",
    "from sklearn.ensemble import RandomForestClassifier\n",
    "from sklearn.ensemble import ExtraTreesClassifier\n",
    "from xgboost import XGBClassifier\n",
    "from sklearn.model_selection import cross_val_score\n",
    "from sklearn.model_selection import RepeatedStratifiedKFold\n",
    "from sklearn.model_selection import StratifiedShuffleSplit\n",
    "from sklearn.model_selection import GridSearchCV \n",
    "from sklearn.model_selection import train_test_split"
   ]
  },
  {
   "cell_type": "code",
   "execution_count": 3,
   "id": "bd770f8c-eaf3-4180-8a3e-ad6b12331bb6",
   "metadata": {},
   "outputs": [],
   "source": [
    "\n",
    "\n",
    "warnings.filterwarnings('ignore')"
   ]
  },
  {
   "cell_type": "code",
   "execution_count": 105,
   "id": "7770e5b8-a5c6-4408-9986-a928e0189fda",
   "metadata": {},
   "outputs": [],
   "source": [
    "detector = dlib.get_frontal_face_detector()\n",
    "#detector = MTCNN()\n",
    "predictor = dlib.shape_predictor(\"C:/Users/snakale/OneDrive - Unam/Desktop/MADS/Thesis/shape_predictor_68_face_landmarks.dat\")"
   ]
  },
  {
   "cell_type": "code",
   "execution_count": 106,
   "id": "5145f623-e6cb-4ef0-af71-19ea12bc6d11",
   "metadata": {},
   "outputs": [],
   "source": [
    "def calculate_EAR(eye):\n",
    "\tA = distance.euclidean(eye[1], eye[5])\n",
    "\tB = distance.euclidean(eye[2], eye[4])\n",
    "\tC = distance.euclidean(eye[0], eye[3])\n",
    "\tear_aspect_ratio = (A+B)/(2.0*C)\n",
    "\treturn ear_aspect_ratio"
   ]
  },
  {
   "cell_type": "code",
   "execution_count": 107,
   "id": "9bae0f27-0d98-40fe-9aed-6a6beca5ce63",
   "metadata": {},
   "outputs": [],
   "source": [
    "def mouth_aspect_ratio(mouth):\n",
    "\t# compute the euclidean distances between the two sets of\n",
    "\t# vertical mouth landmarks (x, y)-coordinates\n",
    "\tD = distance.euclidean(mouth[2], mouth[10]) # 51, 59\n",
    "\tE = distance.euclidean(mouth[4], mouth[8]) # 53, 57\n",
    "\n",
    "\t# compute the euclidean distance between the horizontal\n",
    "\t# mouth landmark (x, y)-coordinates\n",
    "\tF = distance.euclidean(mouth[0], mouth[6]) # 49, 55\n",
    "\tG = distance.euclidean(mouth[1], mouth[11]) # 50, 60\n",
    "\tH = distance.euclidean(mouth[3], mouth[9]) # 52, 58\n",
    "\tI = distance.euclidean(mouth[5], mouth[7]) # 54, 56\n",
    "\n",
    "\t# compute the mouth aspect ratio\n",
    "\tmar = (D + E + G + H + I) / (5.0 * F)\n",
    "\n",
    "\t# return the mouth aspect ratio\n",
    "\treturn mar"
   ]
  },
  {
   "cell_type": "code",
   "execution_count": null,
   "id": "61b3c07c-9b7c-44c6-ab7f-d206a45b034b",
   "metadata": {},
   "outputs": [],
   "source": []
  },
  {
   "cell_type": "code",
   "execution_count": 108,
   "id": "9f0b419c-afb4-40aa-bab6-bb717bed6abc",
   "metadata": {},
   "outputs": [],
   "source": [
    "def process_video(input_file):\n",
    "    \n",
    "\n",
    "    EAR_list = []\n",
    "    \n",
    "    COUNTER_list = []\n",
    "    \n",
    "    _COUNTER_list = []\n",
    "    \n",
    "    COUNTER = 0\n",
    "    blinks = 0\n",
    "    \n",
    "\n",
    "    while True:\n",
    "        _, frame = input_file.read()\n",
    "        if _ == False:\n",
    "            break\n",
    "        #gray = cv2.cvtColor(frame, cv2.COLOR_BGR2GRAY)\n",
    "        \n",
    "        img = cv2.cvtColor(frame, cv2.COLOR_BGR2RGB)\n",
    "\n",
    "        faces = detector(img)                   #change to detector only\n",
    "   \n",
    "        for face in faces:\n",
    "            face_landmarks = predictor(img, face)\n",
    "        \n",
    "\n",
    "            \n",
    "            landmark_list = predictor(img, face)\n",
    "            \n",
    "\n",
    "            leftEye = []\n",
    "            rightEye = []\n",
    "\n",
    "            for n in range(36,42):\n",
    "                x = face_landmarks.part(n).x\n",
    "                y = face_landmarks.part(n).y\n",
    "                leftEye.append((x,y))\n",
    "                next_point = n+1\n",
    "                if n == 41:\n",
    "                    next_point = 36\n",
    "                x2 = face_landmarks.part(next_point).x\n",
    "                y2 = face_landmarks.part(next_point).y\n",
    "                cv2.line(frame,(x,y),(x2,y2),(0,255,0),1)\n",
    "\n",
    "            for n in range(42,48):\n",
    "                x = face_landmarks.part(n).x\n",
    "                y = face_landmarks.part(n).y\n",
    "                rightEye.append((x,y))\n",
    "                next_point = n+1\n",
    "                if n == 47:\n",
    "                    next_point = 42\n",
    "                x2 = face_landmarks.part(next_point).x\n",
    "                y2 = face_landmarks.part(next_point).y\n",
    "                cv2.line(frame,(x,y),(x2,y2),(0,255,0),1)\n",
    "\n",
    "            left_ear = calculate_EAR(leftEye)\n",
    "            right_ear = calculate_EAR(rightEye)\n",
    "\n",
    "            EAR = (left_ear+right_ear)/2\n",
    "            EAR_ = round(EAR,2)\n",
    "            \n",
    "            EAR_list.append(EAR_)\n",
    "            \n",
    "            \n",
    "                 \n",
    "\n",
    "            \n",
    "            if EAR_ < 0.2:\n",
    "                    COUNTER += 1\n",
    "                    if COUNTER >= 3:\n",
    "                                blinks += 1\n",
    "\n",
    "            else:\n",
    "                              # reset the eye frame counter\n",
    "\n",
    "                    \n",
    "                    #if COUNTER >= 3:\n",
    "                                #blinks += 1\n",
    "            \n",
    "            #COUNTER_list.append(blinks)                \n",
    "                                                          # reset the eye frame counter\n",
    "                    COUNTER = 0\n",
    "                    \n",
    "            COUNTER_list.append(blinks)\n",
    "            \n",
    "            _COUNTER_list.append(COUNTER)\n",
    "            \n",
    "\n",
    "       \n",
    "\n",
    "        \n",
    "        \n",
    "        key = cv2.waitKey(1)\n",
    "        if key == 27:\n",
    "            break\n",
    "    #else:\n",
    "        #break\n",
    "    input_file.release()\n",
    "    cv2.destroyAllWindows()\n",
    "\n",
    "     \n",
    "    return [EAR_list, COUNTER_list, _COUNTER_list]"
   ]
  },
  {
   "cell_type": "code",
   "execution_count": 109,
   "id": "019db84e-c161-4238-bde7-c5a9e4bc2870",
   "metadata": {},
   "outputs": [],
   "source": [
    "def process_video_(input_file):\n",
    "\n",
    "      \n",
    "    cnt = 0\n",
    "    yawns = 0\n",
    "\n",
    "    MAR_list = []\n",
    "    \n",
    "    CNT_list = []\n",
    "      \n",
    "\n",
    "    \n",
    "\n",
    "    while True:\n",
    "        _, frame = input_file.read()\n",
    "        if _ == False:\n",
    "            break\n",
    "        gray = cv2.cvtColor(frame, cv2.COLOR_BGR2GRAY)\n",
    "\n",
    "        faces = detector(gray)             #detector only\n",
    "   \n",
    "        for face in faces:\n",
    "            face_landmarks = predictor(gray, face)\n",
    "        \n",
    "\n",
    "            \n",
    "            #landmark_list = dlib_facelandmark(gray, face)\n",
    "            \n",
    "\n",
    "\n",
    "\n",
    "            \n",
    "            face_landmarks = face_utils.shape_to_np(face_landmarks)\n",
    "            \n",
    "            (mStart, mEnd) = (48, 67)\n",
    "\n",
    "\n",
    "            mouth = face_landmarks[mStart:mEnd]\n",
    "            mar = mouth_aspect_ratio(mouth)\n",
    "            \n",
    "            \n",
    "            \n",
    "            MAR_list.append(mar)\n",
    "            \n",
    "            \n",
    "\n",
    "\n",
    "             \n",
    "     \n",
    "          \n",
    "        \n",
    "        \n",
    "            if mar > 0.6:\n",
    "                    cnt += 1\n",
    "                    if cnt == 20:\n",
    "                                yawns = 1\n",
    "                    else:\n",
    "                                yawns = 0\n",
    "\n",
    "            else:\n",
    "  \n",
    "    \n",
    "    \n",
    "                    cnt = 0\n",
    "                    \n",
    "\n",
    "            \n",
    "            CNT_list.append(cnt)    \n",
    "                 \n",
    "\n",
    "        \n",
    "        \n",
    "        key = cv2.waitKey(1)\n",
    "        if key == 27:\n",
    "            break\n",
    "    #else:\n",
    "        #break\n",
    "    input_file.release()\n",
    "    cv2.destroyAllWindows()\n",
    "\n",
    "     \n",
    "    return [MAR_list, CNT_list]\n",
    "    "
   ]
  },
  {
   "cell_type": "code",
   "execution_count": 110,
   "id": "41ba0af0-b03d-48e6-a64e-6e0a7d80e66e",
   "metadata": {},
   "outputs": [],
   "source": [
    "dir_path = 'C:/Users/snakale/OneDrive - Unam/Desktop/MADS/Thesis/YawDD/ALL/*.avi'\n",
    "filenames = glob.glob(dir_path)"
   ]
  },
  {
   "cell_type": "code",
   "execution_count": 111,
   "id": "d28b1854-a6cd-4faf-ba7b-cb826bdd4778",
   "metadata": {},
   "outputs": [],
   "source": [
    "BF = []\n",
    "\n",
    "PERCLOS = []\n",
    "\n",
    "AVERAGE_EAR = []\n",
    "\n",
    "rrr_results = []\n",
    "\n",
    "rr_results = []\n",
    "\n",
    "r_state = []\n",
    "\n",
    "rr_state = []\n",
    "\n",
    "rrr_state = []\n",
    "\n",
    "Number_frames_l = []\n",
    "\n",
    "Max_Run_EAR = []                                     #new\n",
    "\n",
    "ppp=len(filenames)\n",
    "\n",
    "for k in range(0,ppp):\n",
    "\n",
    "    input_file = cv2.VideoCapture(filenames[k])\n",
    "    Number_Frames = input_file.get(cv2.CAP_PROP_FRAME_COUNT)\n",
    "    Number_frames_l.append(Number_Frames)\n",
    "    EVENT_ID = os.path.splitext(os.path.basename(filenames [k]))[0]\n",
    "    \n",
    "    rrr_results.append(EVENT_ID)\n",
    "    \n",
    "    ert = filenames [k]\n",
    "    zz= EVENT_ID.rsplit(\"-\")[3]\n",
    "    \n",
    "    zzz = EVENT_ID.rsplit(\"-\")[2]\n",
    "    \n",
    "    zzzz = EVENT_ID.rsplit(\"-\")[1]\n",
    "    \n",
    "    r_state.append(zz)\n",
    "    \n",
    "    rr_state.append(zzz)\n",
    "    \n",
    "    rrr_state.append(zzzz)\n",
    "    \n",
    "    fps = input_file.get(cv2.CAP_PROP_FPS)\n",
    "    duration = (Number_Frames // fps)/60     #in minutes\n",
    "    \n",
    "    \n",
    "    EAR_list = process_video(input_file)\n",
    "    \n",
    "   \n",
    "    EAR_signal = np.asarray(EAR_list[0])\n",
    "   \n",
    "    MEAN_EAR = np.mean(EAR_signal) \n",
    "    \n",
    "    AVERAGE_EAR.append(MEAN_EAR)\n",
    "    \n",
    "    COUNTER_ = np.asarray(EAR_list[1])\n",
    "    \n",
    "    #Blink_count = int(max(COUNTER_, default=0)/duration)\n",
    "\n",
    "    Facial_frames_extracted = len(EAR_signal)\n",
    "    \n",
    "    rr_results.append(Facial_frames_extracted)\n",
    "    \n",
    "    _COUNTER_ = np.asarray(EAR_list[2])\n",
    "    \n",
    "    perclos_ =  (sum(_COUNTER_ > 0)/(Facial_frames_extracted+0.01))*100\n",
    "    \n",
    "    PERCLOS.append(perclos_)\n",
    "    \n",
    "    #new start\n",
    "   \n",
    "    def largest(arr, n):\n",
    " \n",
    "    # Initialize maximum element\n",
    "        max = 0\n",
    " \n",
    "    # Traverse array elements from second\n",
    "    # and compare every element with\n",
    "    # current max\n",
    "        for i in range(1, n):\n",
    "            if arr[i] > max:\n",
    "                max = arr[i]\n",
    "        return max\n",
    " \n",
    " \n",
    "    # Driver Code\n",
    "    arr = _COUNTER_\n",
    "    n = len(arr)\n",
    "    Ans = largest(arr, n)\n",
    "                  \n",
    "   \n",
    "    Max_Run_EAR.append(Ans)\n",
    "    \n",
    "    # new end\n",
    "    \n",
    "    \n",
    "    \n",
    "    \n",
    "    def maxPositiveRun_(pst):\n",
    "        maxVal_ = 0            \n",
    "        score_array_ = []\n",
    "        for nt in pst:\n",
    "            if nt > 0:\n",
    "                maxVal_ +=1\n",
    "            else:\n",
    "            \n",
    "                if(maxVal_>0):\n",
    "                    score_array_.append(maxVal_)\n",
    "                maxVal_ = 0\n",
    "    \n",
    "        if(maxVal_>0):\n",
    "            score_array_.append(maxVal_)\n",
    "    \n",
    "        return score_array_\n",
    "\n",
    "    ll = maxPositiveRun_(_COUNTER_)\n",
    "\n",
    "    Frames_ = 10   #frames to define a blink  one blink lasts for 0.33 seconds, 30 fps by 0.33 = 10\n",
    "\n",
    "    result_ = [xx//Frames_ for xx in ll]\n",
    "\n",
    "    Blink_frequency = sum(result_)\n",
    "    \n",
    "\n",
    "    BF.append(Blink_frequency)\n",
    "    \n",
    "    #print (EAR_signal)\n"
   ]
  },
  {
   "cell_type": "code",
   "execution_count": null,
   "id": "79deba05-ce07-433c-89ab-0929d4d726c4",
   "metadata": {},
   "outputs": [],
   "source": []
  },
  {
   "cell_type": "code",
   "execution_count": 112,
   "id": "9519ac18-7b4a-4c9f-861b-7f3385259685",
   "metadata": {},
   "outputs": [],
   "source": [
    "#print(COUNTER_)"
   ]
  },
  {
   "cell_type": "code",
   "execution_count": 113,
   "id": "85bad995-723a-4e45-9ac6-470d707557ec",
   "metadata": {},
   "outputs": [],
   "source": [
    "#abb = max(COUNTER_)\n"
   ]
  },
  {
   "cell_type": "code",
   "execution_count": 114,
   "id": "602a3e7f-68ee-445f-b840-e3b9734557f1",
   "metadata": {},
   "outputs": [],
   "source": [
    "#print(_COUNTER_)"
   ]
  },
  {
   "cell_type": "code",
   "execution_count": 115,
   "id": "a792f5af-dd6a-4027-b498-189e8799daa1",
   "metadata": {},
   "outputs": [],
   "source": [
    "#abbv = max(_COUNTER_)\n"
   ]
  },
  {
   "cell_type": "code",
   "execution_count": 116,
   "id": "fcd69a44-c50a-4d6a-93a5-74683b7932e4",
   "metadata": {},
   "outputs": [],
   "source": [
    "k_results = []\n",
    "\n",
    "YF = []\n",
    "\n",
    "FPS = []\n",
    "\n",
    "PMO = []\n",
    "\n",
    "AVERAGE_MAR = []\n",
    "\n",
    "Max_Run_MAR = []                          #new\n",
    "\n",
    "\n",
    "for kk in range(0,ppp):\n",
    "    #input_file = cv2.VideoCapture(filenames[kk])\n",
    "    \n",
    "    input_file = cv2.VideoCapture(filenames[kk])\n",
    "    Number_Frames = input_file.get(cv2.CAP_PROP_FRAME_COUNT)\n",
    "    Number_frames_l.append(Number_Frames)\n",
    "\n",
    "    \n",
    "    fps = round(input_file.get(cv2.CAP_PROP_FPS),0)\n",
    "    FPS.append(fps)\n",
    "    durationInSeconds = Number_Frames // fps\n",
    "\n",
    "    MAR_list  = process_video_(input_file)\n",
    "        \n",
    "    MAR_signal = np.asarray(MAR_list[0])\n",
    "  \n",
    "    MEAN_MAR = np.mean(MAR_signal) \n",
    "    \n",
    "    AVERAGE_MAR.append(MEAN_MAR)\n",
    "    \n",
    "\n",
    "    k_results.append(MEAN_MAR)\n",
    "    \n",
    "    \n",
    "    \n",
    "\n",
    "    \n",
    "\n",
    "   \n",
    "    _CNTR_1 = np.asarray(MAR_list[1])\n",
    "    \n",
    "    mar =  (sum(_CNTR_1 > 0)/(Facial_frames_extracted+0.01))*100\n",
    "    \n",
    "    PMO.append(mar)\n",
    "    \n",
    "    \n",
    "  \n",
    "    \n",
    "       #new start\n",
    "\n",
    "    \n",
    "    def largest2(arr2, n2):\n",
    " \n",
    "    # Initialize maximum element\n",
    "        max = 0\n",
    " \n",
    "    # Traverse array elements from second\n",
    "    # and compare every element with\n",
    "    # current max\n",
    "        for iii in range(1, n2):\n",
    "            if arr2[iii] > max:\n",
    "                max = arr2[iii]\n",
    "        return max\n",
    " \n",
    " \n",
    "    # Driver Code\n",
    "    arr2 = _CNTR_1\n",
    "    n2 = len(arr2)\n",
    "    Ans2 = largest2(arr2, n2)\n",
    "                  \n",
    "    \n",
    "    Max_Run_MAR.append(Ans2)\n",
    "    \n",
    "    \n",
    "    \n",
    "    \n",
    "    \n",
    "    \n",
    "    # new end\n",
    "\n",
    "    \n",
    "    \n",
    "    def maxPositiveRun(lst):\n",
    "        maxVal = 0            \n",
    "        score_array = []\n",
    "        for n in lst:\n",
    "            if n > 0:\n",
    "                maxVal +=1\n",
    "            else:\n",
    "            \n",
    "                if(maxVal>0):\n",
    "                    score_array.append(maxVal)\n",
    "                maxVal = 0\n",
    "    \n",
    "        if(maxVal>0):\n",
    "            score_array.append(maxVal)\n",
    "    \n",
    "        return score_array\n",
    "\n",
    "    l = maxPositiveRun(_CNTR_1)\n",
    "\n",
    "    Frames = 60   #frames to define a yawn; a yawn lasts for about 2 to 6 seconds 2*30 = 60\n",
    "\n",
    "    result = [x//Frames for x in l]\n",
    "\n",
    "    Yawn_frequency = sum(result)\n",
    "    \n",
    "    \n",
    "    \n",
    "    \n",
    "    \n",
    "\n",
    "    YF.append(Yawn_frequency)\n",
    "    \n",
    "\n",
    "\n",
    "    #print (Max_Run_MOR)\n",
    "    #print (Max_Run_MAR)\n",
    "    \n",
    "    #print(_MOR_)\n",
    "    "
   ]
  },
  {
   "cell_type": "code",
   "execution_count": 117,
   "id": "9ec0d1ef-cde2-4598-9930-7da95558055a",
   "metadata": {},
   "outputs": [],
   "source": [
    "#print (MAR_signal)"
   ]
  },
  {
   "cell_type": "code",
   "execution_count": 118,
   "id": "4a39600c-f207-46ce-bb09-600893afb562",
   "metadata": {},
   "outputs": [],
   "source": [
    "#print(_CNTR_)"
   ]
  },
  {
   "cell_type": "code",
   "execution_count": 119,
   "id": "1ee53b65-60ef-4e9a-882a-50e022fe45ae",
   "metadata": {},
   "outputs": [
    {
     "data": {
      "text/html": [
       "<div>\n",
       "<style scoped>\n",
       "    .dataframe tbody tr th:only-of-type {\n",
       "        vertical-align: middle;\n",
       "    }\n",
       "\n",
       "    .dataframe tbody tr th {\n",
       "        vertical-align: top;\n",
       "    }\n",
       "\n",
       "    .dataframe thead th {\n",
       "        text-align: right;\n",
       "    }\n",
       "</style>\n",
       "<table border=\"1\" class=\"dataframe\">\n",
       "  <thead>\n",
       "    <tr style=\"text-align: right;\">\n",
       "      <th></th>\n",
       "      <th>EventID</th>\n",
       "      <th>State</th>\n",
       "      <th>Condition</th>\n",
       "      <th>Gender</th>\n",
       "      <th>Blink_Frequency</th>\n",
       "      <th>PERCLOS</th>\n",
       "      <th>Yawn_Frequency</th>\n",
       "      <th>PMO</th>\n",
       "      <th>Max_Run_EAR</th>\n",
       "      <th>Max_Run_MAR</th>\n",
       "      <th>FACIAL_FRAMES</th>\n",
       "      <th>FPS</th>\n",
       "    </tr>\n",
       "  </thead>\n",
       "  <tbody>\n",
       "    <tr>\n",
       "      <th>0</th>\n",
       "      <td>1-Female-NoGlasses-Normal</td>\n",
       "      <td>Normal</td>\n",
       "      <td>NoGlasses</td>\n",
       "      <td>Female</td>\n",
       "      <td>0</td>\n",
       "      <td>0.000000</td>\n",
       "      <td>0</td>\n",
       "      <td>0.465095</td>\n",
       "      <td>0</td>\n",
       "      <td>1</td>\n",
       "      <td>416</td>\n",
       "      <td>30.0</td>\n",
       "    </tr>\n",
       "    <tr>\n",
       "      <th>1</th>\n",
       "      <td>1-Female-NoGlasses-Talking</td>\n",
       "      <td>Talking</td>\n",
       "      <td>NoGlasses</td>\n",
       "      <td>Female</td>\n",
       "      <td>0</td>\n",
       "      <td>5.892752</td>\n",
       "      <td>0</td>\n",
       "      <td>4.185852</td>\n",
       "      <td>8</td>\n",
       "      <td>6</td>\n",
       "      <td>560</td>\n",
       "      <td>30.0</td>\n",
       "    </tr>\n",
       "    <tr>\n",
       "      <th>2</th>\n",
       "      <td>1-Female-NoGlasses-Yawning</td>\n",
       "      <td>Yawning</td>\n",
       "      <td>NoGlasses</td>\n",
       "      <td>Female</td>\n",
       "      <td>0</td>\n",
       "      <td>0.775174</td>\n",
       "      <td>0</td>\n",
       "      <td>36.742477</td>\n",
       "      <td>2</td>\n",
       "      <td>43</td>\n",
       "      <td>387</td>\n",
       "      <td>30.0</td>\n",
       "    </tr>\n",
       "    <tr>\n",
       "      <th>3</th>\n",
       "      <td>1-Male-NoGlasses-Talking</td>\n",
       "      <td>Talking</td>\n",
       "      <td>NoGlasses</td>\n",
       "      <td>Male</td>\n",
       "      <td>0</td>\n",
       "      <td>6.003065</td>\n",
       "      <td>0</td>\n",
       "      <td>0.000000</td>\n",
       "      <td>6</td>\n",
       "      <td>0</td>\n",
       "      <td>633</td>\n",
       "      <td>30.0</td>\n",
       "    </tr>\n",
       "    <tr>\n",
       "      <th>4</th>\n",
       "      <td>1-Male-NoGlasses-Yawning</td>\n",
       "      <td>Yawning</td>\n",
       "      <td>NoGlasses</td>\n",
       "      <td>Male</td>\n",
       "      <td>0</td>\n",
       "      <td>0.000000</td>\n",
       "      <td>0</td>\n",
       "      <td>19.068881</td>\n",
       "      <td>0</td>\n",
       "      <td>18</td>\n",
       "      <td>434</td>\n",
       "      <td>30.0</td>\n",
       "    </tr>\n",
       "    <tr>\n",
       "      <th>...</th>\n",
       "      <td>...</td>\n",
       "      <td>...</td>\n",
       "      <td>...</td>\n",
       "      <td>...</td>\n",
       "      <td>...</td>\n",
       "      <td>...</td>\n",
       "      <td>...</td>\n",
       "      <td>...</td>\n",
       "      <td>...</td>\n",
       "      <td>...</td>\n",
       "      <td>...</td>\n",
       "      <td>...</td>\n",
       "    </tr>\n",
       "    <tr>\n",
       "      <th>202</th>\n",
       "      <td>9-Female-NoGlasses-Talking</td>\n",
       "      <td>Talking</td>\n",
       "      <td>NoGlasses</td>\n",
       "      <td>Female</td>\n",
       "      <td>1</td>\n",
       "      <td>7.233411</td>\n",
       "      <td>0</td>\n",
       "      <td>7.441514</td>\n",
       "      <td>10</td>\n",
       "      <td>5</td>\n",
       "      <td>788</td>\n",
       "      <td>30.0</td>\n",
       "    </tr>\n",
       "    <tr>\n",
       "      <th>203</th>\n",
       "      <td>9-Female-NoGlasses-Yawning</td>\n",
       "      <td>Yawning</td>\n",
       "      <td>NoGlasses</td>\n",
       "      <td>Female</td>\n",
       "      <td>0</td>\n",
       "      <td>0.000000</td>\n",
       "      <td>0</td>\n",
       "      <td>13.487745</td>\n",
       "      <td>0</td>\n",
       "      <td>12</td>\n",
       "      <td>376</td>\n",
       "      <td>30.0</td>\n",
       "    </tr>\n",
       "    <tr>\n",
       "      <th>204</th>\n",
       "      <td>9-Male-NoGlasses-Normal</td>\n",
       "      <td>Normal</td>\n",
       "      <td>NoGlasses</td>\n",
       "      <td>Male</td>\n",
       "      <td>0</td>\n",
       "      <td>0.000000</td>\n",
       "      <td>0</td>\n",
       "      <td>0.000000</td>\n",
       "      <td>0</td>\n",
       "      <td>0</td>\n",
       "      <td>180</td>\n",
       "      <td>30.0</td>\n",
       "    </tr>\n",
       "    <tr>\n",
       "      <th>205</th>\n",
       "      <td>9-Male-NoGlasses-Talking</td>\n",
       "      <td>Talking</td>\n",
       "      <td>NoGlasses</td>\n",
       "      <td>Male</td>\n",
       "      <td>0</td>\n",
       "      <td>3.431204</td>\n",
       "      <td>0</td>\n",
       "      <td>0.000000</td>\n",
       "      <td>5</td>\n",
       "      <td>0</td>\n",
       "      <td>204</td>\n",
       "      <td>30.0</td>\n",
       "    </tr>\n",
       "    <tr>\n",
       "      <th>206</th>\n",
       "      <td>9-Male-NoGlasses-Yawning</td>\n",
       "      <td>Yawning</td>\n",
       "      <td>NoGlasses</td>\n",
       "      <td>Male</td>\n",
       "      <td>0</td>\n",
       "      <td>0.465095</td>\n",
       "      <td>0</td>\n",
       "      <td>0.000000</td>\n",
       "      <td>1</td>\n",
       "      <td>0</td>\n",
       "      <td>215</td>\n",
       "      <td>30.0</td>\n",
       "    </tr>\n",
       "  </tbody>\n",
       "</table>\n",
       "<p>207 rows × 12 columns</p>\n",
       "</div>"
      ],
      "text/plain": [
       "                        EventID    State  Condition  Gender  Blink_Frequency  \\\n",
       "0     1-Female-NoGlasses-Normal   Normal  NoGlasses  Female                0   \n",
       "1    1-Female-NoGlasses-Talking  Talking  NoGlasses  Female                0   \n",
       "2    1-Female-NoGlasses-Yawning  Yawning  NoGlasses  Female                0   \n",
       "3      1-Male-NoGlasses-Talking  Talking  NoGlasses    Male                0   \n",
       "4      1-Male-NoGlasses-Yawning  Yawning  NoGlasses    Male                0   \n",
       "..                          ...      ...        ...     ...              ...   \n",
       "202  9-Female-NoGlasses-Talking  Talking  NoGlasses  Female                1   \n",
       "203  9-Female-NoGlasses-Yawning  Yawning  NoGlasses  Female                0   \n",
       "204     9-Male-NoGlasses-Normal   Normal  NoGlasses    Male                0   \n",
       "205    9-Male-NoGlasses-Talking  Talking  NoGlasses    Male                0   \n",
       "206    9-Male-NoGlasses-Yawning  Yawning  NoGlasses    Male                0   \n",
       "\n",
       "      PERCLOS  Yawn_Frequency        PMO  Max_Run_EAR  Max_Run_MAR  \\\n",
       "0    0.000000               0   0.465095            0            1   \n",
       "1    5.892752               0   4.185852            8            6   \n",
       "2    0.775174               0  36.742477            2           43   \n",
       "3    6.003065               0   0.000000            6            0   \n",
       "4    0.000000               0  19.068881            0           18   \n",
       "..        ...             ...        ...          ...          ...   \n",
       "202  7.233411               0   7.441514           10            5   \n",
       "203  0.000000               0  13.487745            0           12   \n",
       "204  0.000000               0   0.000000            0            0   \n",
       "205  3.431204               0   0.000000            5            0   \n",
       "206  0.465095               0   0.000000            1            0   \n",
       "\n",
       "     FACIAL_FRAMES   FPS  \n",
       "0              416  30.0  \n",
       "1              560  30.0  \n",
       "2              387  30.0  \n",
       "3              633  30.0  \n",
       "4              434  30.0  \n",
       "..             ...   ...  \n",
       "202            788  30.0  \n",
       "203            376  30.0  \n",
       "204            180  30.0  \n",
       "205            204  30.0  \n",
       "206            215  30.0  \n",
       "\n",
       "[207 rows x 12 columns]"
      ]
     },
     "execution_count": 119,
     "metadata": {},
     "output_type": "execute_result"
    }
   ],
   "source": [
    "df1 = pd.DataFrame(data=BF)\n",
    "\n",
    "df2= pd.DataFrame(data=YF)\n",
    "\n",
    "df3 = pd.DataFrame(data=rrr_results)\n",
    "\n",
    "df4 =pd.DataFrame(data= r_state)\n",
    "\n",
    "df5 =pd.DataFrame(data= rr_state)\n",
    "\n",
    "df6 =pd.DataFrame(data= rrr_state)\n",
    "\n",
    "df7 = pd.DataFrame(data=PERCLOS)\n",
    "\n",
    "df8 = pd.DataFrame(data=FPS)\n",
    "\n",
    "df9 = pd.DataFrame(data=rr_results)\n",
    "\n",
    "df10 = pd.DataFrame(data=Max_Run_EAR)\n",
    "\n",
    "df11 = pd.DataFrame(data=Max_Run_MAR)\n",
    "\n",
    "df12 = pd.DataFrame(data=PMO)\n",
    "\n",
    "Fatigue_det = pd.concat([df3, df4, df5, df6, df1, df7, df2, df12, df10,  df11, df9, df8], axis=1)\n",
    "\n",
    "Fatigue_det.columns = ['EventID', 'State', 'Condition', 'Gender', 'Blink_Frequency', 'PERCLOS', 'Yawn_Frequency', 'PMO', 'Max_Run_EAR', 'Max_Run_MAR', 'FACIAL_FRAMES', 'FPS']\n",
    "Fatigue_det"
   ]
  },
  {
   "cell_type": "code",
   "execution_count": 120,
   "id": "38097c2e-4f96-4ca6-b9da-1de03219a9cd",
   "metadata": {},
   "outputs": [
    {
     "data": {
      "text/html": [
       "<div>\n",
       "<style scoped>\n",
       "    .dataframe tbody tr th:only-of-type {\n",
       "        vertical-align: middle;\n",
       "    }\n",
       "\n",
       "    .dataframe tbody tr th {\n",
       "        vertical-align: top;\n",
       "    }\n",
       "\n",
       "    .dataframe thead th {\n",
       "        text-align: right;\n",
       "    }\n",
       "</style>\n",
       "<table border=\"1\" class=\"dataframe\">\n",
       "  <thead>\n",
       "    <tr style=\"text-align: right;\">\n",
       "      <th></th>\n",
       "      <th>Blink_Frequency</th>\n",
       "      <th>PERCLOS</th>\n",
       "      <th>Yawn_Frequency</th>\n",
       "      <th>PMO</th>\n",
       "      <th>Max_Run_EAR</th>\n",
       "      <th>Max_Run_MAR</th>\n",
       "      <th>FACIAL_FRAMES</th>\n",
       "      <th>FPS</th>\n",
       "    </tr>\n",
       "  </thead>\n",
       "  <tbody>\n",
       "    <tr>\n",
       "      <th>count</th>\n",
       "      <td>207.000000</td>\n",
       "      <td>207.000000</td>\n",
       "      <td>207.000000</td>\n",
       "      <td>207.000000</td>\n",
       "      <td>207.000000</td>\n",
       "      <td>207.000000</td>\n",
       "      <td>207.000000</td>\n",
       "      <td>207.0</td>\n",
       "    </tr>\n",
       "    <tr>\n",
       "      <th>mean</th>\n",
       "      <td>0.777778</td>\n",
       "      <td>5.928742</td>\n",
       "      <td>0.024155</td>\n",
       "      <td>6.410218</td>\n",
       "      <td>7.816425</td>\n",
       "      <td>6.710145</td>\n",
       "      <td>470.985507</td>\n",
       "      <td>30.0</td>\n",
       "    </tr>\n",
       "    <tr>\n",
       "      <th>std</th>\n",
       "      <td>2.533061</td>\n",
       "      <td>9.623138</td>\n",
       "      <td>0.182741</td>\n",
       "      <td>12.846288</td>\n",
       "      <td>16.282551</td>\n",
       "      <td>16.531906</td>\n",
       "      <td>220.881189</td>\n",
       "      <td>0.0</td>\n",
       "    </tr>\n",
       "    <tr>\n",
       "      <th>min</th>\n",
       "      <td>0.000000</td>\n",
       "      <td>0.000000</td>\n",
       "      <td>0.000000</td>\n",
       "      <td>0.000000</td>\n",
       "      <td>0.000000</td>\n",
       "      <td>0.000000</td>\n",
       "      <td>0.000000</td>\n",
       "      <td>30.0</td>\n",
       "    </tr>\n",
       "    <tr>\n",
       "      <th>25%</th>\n",
       "      <td>0.000000</td>\n",
       "      <td>0.536210</td>\n",
       "      <td>0.000000</td>\n",
       "      <td>0.000000</td>\n",
       "      <td>1.000000</td>\n",
       "      <td>0.000000</td>\n",
       "      <td>345.500000</td>\n",
       "      <td>30.0</td>\n",
       "    </tr>\n",
       "    <tr>\n",
       "      <th>50%</th>\n",
       "      <td>0.000000</td>\n",
       "      <td>2.276997</td>\n",
       "      <td>0.000000</td>\n",
       "      <td>0.000000</td>\n",
       "      <td>4.000000</td>\n",
       "      <td>0.000000</td>\n",
       "      <td>499.000000</td>\n",
       "      <td>30.0</td>\n",
       "    </tr>\n",
       "    <tr>\n",
       "      <th>75%</th>\n",
       "      <td>0.000000</td>\n",
       "      <td>6.452992</td>\n",
       "      <td>0.000000</td>\n",
       "      <td>7.441514</td>\n",
       "      <td>7.000000</td>\n",
       "      <td>6.000000</td>\n",
       "      <td>629.500000</td>\n",
       "      <td>30.0</td>\n",
       "    </tr>\n",
       "    <tr>\n",
       "      <th>max</th>\n",
       "      <td>19.000000</td>\n",
       "      <td>68.228584</td>\n",
       "      <td>2.000000</td>\n",
       "      <td>82.321752</td>\n",
       "      <td>192.000000</td>\n",
       "      <td>153.000000</td>\n",
       "      <td>1086.000000</td>\n",
       "      <td>30.0</td>\n",
       "    </tr>\n",
       "  </tbody>\n",
       "</table>\n",
       "</div>"
      ],
      "text/plain": [
       "       Blink_Frequency     PERCLOS  Yawn_Frequency         PMO  Max_Run_EAR  \\\n",
       "count       207.000000  207.000000      207.000000  207.000000   207.000000   \n",
       "mean          0.777778    5.928742        0.024155    6.410218     7.816425   \n",
       "std           2.533061    9.623138        0.182741   12.846288    16.282551   \n",
       "min           0.000000    0.000000        0.000000    0.000000     0.000000   \n",
       "25%           0.000000    0.536210        0.000000    0.000000     1.000000   \n",
       "50%           0.000000    2.276997        0.000000    0.000000     4.000000   \n",
       "75%           0.000000    6.452992        0.000000    7.441514     7.000000   \n",
       "max          19.000000   68.228584        2.000000   82.321752   192.000000   \n",
       "\n",
       "       Max_Run_MAR  FACIAL_FRAMES    FPS  \n",
       "count   207.000000     207.000000  207.0  \n",
       "mean      6.710145     470.985507   30.0  \n",
       "std      16.531906     220.881189    0.0  \n",
       "min       0.000000       0.000000   30.0  \n",
       "25%       0.000000     345.500000   30.0  \n",
       "50%       0.000000     499.000000   30.0  \n",
       "75%       6.000000     629.500000   30.0  \n",
       "max     153.000000    1086.000000   30.0  "
      ]
     },
     "execution_count": 120,
     "metadata": {},
     "output_type": "execute_result"
    }
   ],
   "source": [
    "Fatigue_det.describe()"
   ]
  },
  {
   "cell_type": "code",
   "execution_count": 121,
   "id": "6a7290ba-8d98-447e-821e-1a3971dce3cf",
   "metadata": {},
   "outputs": [],
   "source": [
    "Fatigue_det.to_csv('Yaw_DD.csv',index=False)"
   ]
  },
  {
   "cell_type": "markdown",
   "id": "7d656f45-a4de-4088-abfc-306082a16db4",
   "metadata": {},
   "source": [
    "Data"
   ]
  },
  {
   "cell_type": "code",
   "execution_count": 4,
   "id": "8063820a-a156-4c2c-b81b-920278c678f6",
   "metadata": {},
   "outputs": [],
   "source": [
    "#DEAL WITH THE TALKING CLASS!!!!\n",
    "\n",
    "df_1a= pd.read_csv(\"Yaw_DD.csv\")\n",
    "df_11a = df_1a.dropna()\n",
    "\n"
   ]
  },
  {
   "cell_type": "markdown",
   "id": "4571190f-6849-48e3-961c-38856fd9ae74",
   "metadata": {},
   "source": [
    "MERGE NORMAL AND TALKING INTO ONE CLASS i.e. NON_YAWNING"
   ]
  },
  {
   "cell_type": "code",
   "execution_count": 5,
   "id": "c356845e-a815-4e8f-bf13-7a0d320e2f2c",
   "metadata": {},
   "outputs": [],
   "source": [
    "def merge_normal_talking(b):\n",
    "    if ((b['State'] == 'Normal') ) or ((b['State'] == 'Talking' )):    \n",
    "        return 'Non_Yawning'                                             \n",
    "    else:\n",
    "        return 'Yawning'\n",
    "    \n",
    "b = df_11a\n",
    "df_11a['State_'] = df_11a.apply(merge_normal_talking, axis=1)\n",
    "\n",
    "#print (df_11a)\n"
   ]
  },
  {
   "cell_type": "markdown",
   "id": "7a51192d-8901-4c9d-8500-65e930a98fc0",
   "metadata": {},
   "source": [
    "INITIAL DATA LABELLING"
   ]
  },
  {
   "cell_type": "code",
   "execution_count": 6,
   "id": "6f440d2d-13e9-4fdc-b9da-33558b55dd51",
   "metadata": {},
   "outputs": [],
   "source": [
    "y = df_11a['State_']\n",
    "\n",
    "le = LabelEncoder()\n",
    "\n",
    "df_11a['State_'] = le.fit_transform(df_11a['State_'])\n",
    "\n",
    "y = le.transform(y)"
   ]
  },
  {
   "cell_type": "markdown",
   "id": "8ed48e33-7450-44aa-bb87-446af7e7db5c",
   "metadata": {},
   "source": [
    "DEFINING THE PREDICTOR FEATURE SPACE"
   ]
  },
  {
   "cell_type": "code",
   "execution_count": 7,
   "id": "dd494d39-6de8-42c5-a697-3187a645784c",
   "metadata": {},
   "outputs": [],
   "source": [
    "\n",
    "X_ = df_11a[['PERCLOS' , 'PMO']]\n",
    "\n"
   ]
  },
  {
   "cell_type": "markdown",
   "id": "cc79b66c-a219-4d7d-b4fe-1f7baa2dd387",
   "metadata": {},
   "source": [
    "     Scaling predictors"
   ]
  },
  {
   "cell_type": "code",
   "execution_count": 8,
   "id": "29c19ad8-ce64-460e-b912-5e1214d03a6c",
   "metadata": {},
   "outputs": [],
   "source": [
    "scaler = StandardScaler()\n",
    "X = scaler.fit_transform(X_)\n"
   ]
  },
  {
   "cell_type": "markdown",
   "id": "6e99c974-8543-40b9-8ade-b654cc4be4a0",
   "metadata": {},
   "source": [
    "THRESHOLDING AND DATA LABELLING"
   ]
  },
  {
   "cell_type": "code",
   "execution_count": 9,
   "id": "5a20f592-a489-4c33-b1f5-86e15140a4a4",
   "metadata": {},
   "outputs": [],
   "source": [
    "#define/ set threshold values of 10% for both PERCLOS and PMO\n",
    "MO = 10\n",
    "EO = 10"
   ]
  },
  {
   "cell_type": "code",
   "execution_count": 10,
   "id": "a3acfc5d-b019-4c15-bef7-e312155beeef",
   "metadata": {},
   "outputs": [],
   "source": [
    "def conditions(s):\n",
    "    if ((s['PERCLOS'] > EO) ) or ((s['PMO'] > MO )):     # check for all parameters\n",
    "        return 'Yawning'                                             # fatigue = 1 not fatigue = 0\n",
    "    else:\n",
    "        return 'Non_Yawning'"
   ]
  },
  {
   "cell_type": "code",
   "execution_count": 11,
   "id": "aae7700a-c7b4-4866-a051-73b26b68fa09",
   "metadata": {},
   "outputs": [],
   "source": [
    "s = df_11a\n",
    "df_11a['Thresholding_Class'] = df_11a.apply(conditions, axis=1)\n",
    "df_11a['Thresholding_Class'] =  le.fit_transform(df_11a['Thresholding_Class'])\n",
    "\n",
    "#print (df_11a)\n"
   ]
  },
  {
   "cell_type": "code",
   "execution_count": 12,
   "id": "1b408354-f66c-4784-96cb-d62e3ce7dd51",
   "metadata": {},
   "outputs": [],
   "source": [
    "def final_label(lb):\n",
    "    if ((lb['Thresholding_Class']==1)) and (( lb['State_']==0)):     \n",
    "        return lb['State_']                                            \n",
    "    else:\n",
    "        return lb['Thresholding_Class']\n",
    "\n",
    "lb = df_11a\n",
    "df_11a['Fatigue_State'] = df_11a.apply(final_label, axis=1)\n",
    "#print(df_11a)"
   ]
  },
  {
   "cell_type": "markdown",
   "id": "4aaee96b-fed9-47be-bf42-172be518443d",
   "metadata": {},
   "source": [
    "EXTRACTING SUBSETS OF THE DATASET"
   ]
  },
  {
   "cell_type": "code",
   "execution_count": 13,
   "id": "7b14d408-f2c3-4280-b8cc-92c0365beee1",
   "metadata": {},
   "outputs": [],
   "source": [
    "df_glasses = df_11a[df_11a.Condition == 'Glasses']\n",
    "df_noglasses = df_11a[df_11a.Condition == 'NoGlasses']\n",
    "df_sunglasses = df_11a[df_11a.Condition == 'SunGlasses']\n",
    "df_male = df_11a[df_11a.Gender == 'Male']\n",
    "df_female = df_11a[df_11a.Gender == 'Female']\n",
    "\n",
    "X_glasses = df_glasses[['PERCLOS' , 'PMO']]\n",
    "X_noglasses = df_noglasses[['PERCLOS' , 'PMO']]\n",
    "X_sunglasses = df_sunglasses[['PERCLOS' , 'PMO']]\n",
    "X_male = df_male[['PERCLOS' , 'PMO']]\n",
    "X_female = df_female[['PERCLOS' , 'PMO']]\n",
    "\n",
    "Xglasses = scaler.fit_transform(X_glasses)\n",
    "Xnoglasses = scaler.fit_transform(X_noglasses)\n",
    "Xsunglasses = scaler.fit_transform(X_sunglasses)\n",
    "Xmale = scaler.fit_transform(X_male)\n",
    "Xfemale = scaler.fit_transform(X_female)\n",
    "\n",
    "\n",
    "y_noglasses = df_noglasses['Fatigue_State']\n",
    "y_glasses = df_glasses['Fatigue_State']\n",
    "y_sunglasses = df_sunglasses['Fatigue_State']\n",
    "y_male = df_male['Fatigue_State']\n",
    "y_female = df_female['Fatigue_State']\n"
   ]
  },
  {
   "cell_type": "markdown",
   "id": "0627e72f-e12c-42b5-aaac-4faadc9c1076",
   "metadata": {},
   "source": [
    "CHECKING CLASS IMBALANCE"
   ]
  },
  {
   "cell_type": "code",
   "execution_count": 27,
   "id": "beed91b0-4eb2-4653-bc8a-1d3dcea59757",
   "metadata": {},
   "outputs": [
    {
     "name": "stdout",
     "output_type": "stream",
     "text": [
      "0    152\n",
      "1     55\n",
      "Name: Fatigue_State, dtype: int64\n"
     ]
    },
    {
     "data": {
      "text/plain": [
       "Text(0.5, 0, 'Target label')"
      ]
     },
     "execution_count": 27,
     "metadata": {},
     "output_type": "execute_result"
    },
    {
     "data": {
      "image/png": "[encoded data removed]",
      "text/plain": [
       "<Figure size 640x480 with 1 Axes>"
      ]
     },
     "metadata": {},
     "output_type": "display_data"
    }
   ],
   "source": [
    "class_fre = df_11a['Fatigue_State'].value_counts()\n",
    "#print(class_fre)\n",
    "df_11a['Fatigue_State'].value_counts().plot(kind='bar')\n",
    "plt.xticks([0, 1], ['Non-Fatigue', 'Fatigue'], rotation = 'horizontal')\n",
    "plt.ylabel(\"Number of cases\")\n",
    "plt.xlabel(\"Target label\")\n",
    "\n"
   ]
  },
  {
   "cell_type": "code",
   "execution_count": 38,
   "id": "284ead01-f018-4d87-899a-a62060db9efb",
   "metadata": {},
   "outputs": [
    {
     "data": {
      "image/png": "[encoded data removed]",
      "text/plain": [
       "<Figure size 640x480 with 1 Axes>"
      ]
     },
     "metadata": {},
     "output_type": "display_data"
    }
   ],
   "source": [
    "from matplotlib import style\n",
    "Fatigue_cases = {'Non_Fatigue':152 , 'Fatigue':55}\n",
    "xa1 = list(Fatigue_cases.keys())\n",
    "xa2 = list(Fatigue_cases.values())\n",
    "style.use('ggplot')\n",
    "plt.barh(xa1, xa2)\n",
    "plt.xlabel('Number of cases')\n",
    "for index, value in enumerate(xa2):\n",
    "    plt.text(value, index, str(value))\n",
    "plt.show()\n",
    "\n"
   ]
  },
  {
   "cell_type": "markdown",
   "id": "bef87030-02cb-44a6-9fdb-bdf8e74f6837",
   "metadata": {},
   "source": [
    "DEALING WITH CLASS IMBALANCE"
   ]
  },
  {
   "cell_type": "code",
   "execution_count": 25,
   "id": "ff295850-6f60-4317-9e5c-9d5ec22bc362",
   "metadata": {},
   "outputs": [],
   "source": []
  },
  {
   "cell_type": "markdown",
   "id": "204dc3f9-c3f8-48c1-a9f8-279162c60562",
   "metadata": {},
   "source": [
    "     SMOTE"
   ]
  },
  {
   "cell_type": "code",
   "execution_count": 48,
   "id": "b6920457-9eef-42c1-9e8d-15e6a6f206ed",
   "metadata": {},
   "outputs": [],
   "source": [
    "\n",
    "smote = SMOTE (random_state = 42)\n",
    "x_s, y_s = smote.fit_resample(X, df_11a['Fatigue_State'])\n",
    "\n",
    "\n",
    "\n",
    "\n"
   ]
  },
  {
   "cell_type": "code",
   "execution_count": 27,
   "id": "a803ceea-ed11-4450-a650-7c1c641c6a06",
   "metadata": {},
   "outputs": [
    {
     "data": {
      "image/png": "[encoded data removed]",
      "text/plain": [
       "<Figure size 640x480 with 1 Axes>"
      ]
     },
     "metadata": {},
     "output_type": "display_data"
    }
   ],
   "source": [
    "unique, counts = np.unique(y_s, return_counts=True)\n",
    "plt.bar(unique, counts)\n",
    "plt.xticks([0, 1], ['Non-Fatigue', 'Fatigue'], rotation = 'horizontal')\n",
    "plt.ylabel('Number of cases')\n",
    "#plt.title('Target class')\n",
    "plt.show()"
   ]
  },
  {
   "cell_type": "code",
   "execution_count": 45,
   "id": "3ccc32c6-41e2-48cf-909d-eb0528c8d3d2",
   "metadata": {},
   "outputs": [
    {
     "data": {
      "image/png": "[encoded data removed]",
      "text/plain": [
       "<Figure size 640x480 with 1 Axes>"
      ]
     },
     "metadata": {},
     "output_type": "display_data"
    }
   ],
   "source": [
    "Fatigue_cases_1 = {'Non_Fatigue':152 , 'Fatigue':152}\n",
    "xa11 = list(Fatigue_cases_1.keys())\n",
    "xa12 = list(Fatigue_cases_1.values())\n",
    "style.use('ggplot')\n",
    "plt.barh(xa11, xa12, color='green')\n",
    "plt.xlabel('Number of cases')\n",
    "for index, value in enumerate(xa12):\n",
    "    plt.text(value, index, str(value))\n",
    "plt.show()\n"
   ]
  },
  {
   "cell_type": "markdown",
   "id": "11a4d2c0-77b5-4f4b-900c-a906da6aa8b9",
   "metadata": {},
   "source": [
    "     OVERSAMPLER"
   ]
  },
  {
   "cell_type": "code",
   "execution_count": 165,
   "id": "323cd16d-8c25-4851-b1b8-99f3ecec3ecd",
   "metadata": {},
   "outputs": [],
   "source": [
    "from imblearn.over_sampling import RandomOverSampler\n",
    "ros = RandomOverSampler(random_state = 42)\n",
    "x_ros, y_ros = ros.fit_resample(X, df_11a['Fatigue_State'])"
   ]
  },
  {
   "cell_type": "code",
   "execution_count": 72,
   "id": "b9d225aa-5d0a-4908-af07-b54f3f2d3c0f",
   "metadata": {},
   "outputs": [],
   "source": [
    "#print (x_ros)"
   ]
  },
  {
   "cell_type": "markdown",
   "id": "4cadcb10-abe2-42cd-a0a8-164a7982a0bf",
   "metadata": {},
   "source": [
    "STATISTICAL ANALYSIS OF THE FEATURES"
   ]
  },
  {
   "cell_type": "code",
   "execution_count": null,
   "id": "433e0eb9-af09-43eb-8729-393753359d4b",
   "metadata": {},
   "outputs": [],
   "source": []
  },
  {
   "cell_type": "code",
   "execution_count": 166,
   "id": "2254735a-066d-4c62-b8ca-bfa8be4875ba",
   "metadata": {},
   "outputs": [
    {
     "name": "stdout",
     "output_type": "stream",
     "text": [
      "Requirement already satisfied: researchpy in c:\\users\\snakale\\appdata\\local\\anaconda3\\lib\\site-packages (0.3.5)Note: you may need to restart the kernel to use updated packages.\n",
      "\n",
      "Requirement already satisfied: statsmodels in c:\\users\\snakale\\appdata\\local\\anaconda3\\lib\\site-packages (from researchpy) (0.13.5)\n",
      "Requirement already satisfied: scipy in c:\\users\\snakale\\appdata\\local\\anaconda3\\lib\\site-packages (from researchpy) (1.10.0)\n",
      "Requirement already satisfied: pandas in c:\\users\\snakale\\appdata\\local\\anaconda3\\lib\\site-packages (from researchpy) (1.5.3)\n",
      "Requirement already satisfied: patsy in c:\\users\\snakale\\appdata\\local\\anaconda3\\lib\\site-packages (from researchpy) (0.5.3)\n",
      "Requirement already satisfied: numpy in c:\\users\\snakale\\appdata\\local\\anaconda3\\lib\\site-packages (from researchpy) (1.23.5)\n",
      "Requirement already satisfied: python-dateutil>=2.8.1 in c:\\users\\snakale\\appdata\\local\\anaconda3\\lib\\site-packages (from pandas->researchpy) (2.8.2)\n",
      "Requirement already satisfied: pytz>=2020.1 in c:\\users\\snakale\\appdata\\local\\anaconda3\\lib\\site-packages (from pandas->researchpy) (2022.7)\n",
      "Requirement already satisfied: six in c:\\users\\snakale\\appdata\\local\\anaconda3\\lib\\site-packages (from patsy->researchpy) (1.16.0)\n",
      "Requirement already satisfied: packaging>=21.3 in c:\\users\\snakale\\appdata\\local\\anaconda3\\lib\\site-packages (from statsmodels->researchpy) (22.0)\n"
     ]
    }
   ],
   "source": [
    "pip install researchpy"
   ]
  },
  {
   "cell_type": "code",
   "execution_count": 167,
   "id": "b542d6c6-df81-4d02-bf0d-c1e560f89988",
   "metadata": {},
   "outputs": [],
   "source": [
    "import pandas as pd\n",
    "import researchpy as rp\n",
    "import scipy.stats as stats"
   ]
  },
  {
   "cell_type": "markdown",
   "id": "a42e834a-1dec-4e05-bb36-983008ecea02",
   "metadata": {},
   "source": [
    "Checking for normality assumption"
   ]
  },
  {
   "cell_type": "code",
   "execution_count": 168,
   "id": "4a757996-e363-46e5-be31-d5f10fd02350",
   "metadata": {},
   "outputs": [
    {
     "name": "stdout",
     "output_type": "stream",
     "text": [
      "Normality PERCLOS: ShapiroResult(statistic=0.613569974899292, pvalue=2.391667331245811e-21)\n",
      "Normality PMO: ShapiroResult(statistic=0.5688132047653198, pvalue=2.0936429009083174e-22)\n"
     ]
    }
   ],
   "source": [
    "#Checking assumptions of normality\n",
    "shapiro1 = stats.shapiro(df_11a['PERCLOS'])\n",
    "shapiro2 = stats.shapiro(df_11a['PMO'])\n",
    "\n",
    "\n",
    "\n",
    "print('Normality PERCLOS:', shapiro1)\n",
    "print('Normality PMO:', shapiro2)\n",
    "\n"
   ]
  },
  {
   "cell_type": "markdown",
   "id": "774d679e-cb95-4079-bc72-4768f0f73f28",
   "metadata": {},
   "source": [
    "T-TESTS OF INDEPENDENCE TO GET THE MEANS"
   ]
  },
  {
   "cell_type": "code",
   "execution_count": 169,
   "id": "f98dc788-11a7-4709-996e-345e1711c7d2",
   "metadata": {},
   "outputs": [
    {
     "name": "stdout",
     "output_type": "stream",
     "text": [
      "   Variable      N       Mean         SD        SE  95% Conf.   Interval\n",
      "0         0  152.0   4.028924   6.480538  0.525641   2.990363   5.067485\n",
      "1         1   55.0  11.179150  14.056893  1.895431   7.379039  14.979260\n",
      "2  combined  207.0   5.928742   9.623138  0.668854   4.610065   7.247420\n",
      "          Independent t-test   results\n",
      "0      Difference (0 - 1) =    -7.1502\n",
      "1      Degrees of freedom =   205.0000\n",
      "2                       t =    -4.9882\n",
      "3   Two side test p value =     0.0000\n",
      "4  Difference < 0 p value =     0.0000\n",
      "5  Difference > 0 p value =     1.0000\n",
      "6               Cohen's d =    -0.7849\n",
      "7               Hedge's g =    -0.7820\n",
      "8          Glass's delta1 =    -1.1033\n",
      "9        Point-Biserial r =    -0.3290\n"
     ]
    }
   ],
   "source": [
    "summary1, results1 = rp.ttest(group1= df_11a['PERCLOS'][df_11a['Fatigue_State'] == 0], group1_name= \"0\",\n",
    "                            group2= df_11a['PERCLOS'][df_11a['Fatigue_State'] == 1], group2_name= 1)\n",
    "print(summary1)\n",
    "print (results1)"
   ]
  },
  {
   "cell_type": "code",
   "execution_count": 170,
   "id": "64d631c0-4cf1-4194-a27d-a4e0873e3c21",
   "metadata": {},
   "outputs": [
    {
     "name": "stdout",
     "output_type": "stream",
     "text": [
      "   Variable      N       Mean         SD        SE  95% Conf.   Interval\n",
      "0         0  152.0   1.220873   2.835288  0.229972   0.766495   1.675252\n",
      "1         1   55.0  20.751678  17.938271  2.418796  15.902283  25.601072\n",
      "2  combined  207.0   6.410218  12.846288  0.892879   4.649865   8.170570\n",
      "          Independent t-test   results\n",
      "0      Difference (0 - 1) =   -19.5308\n",
      "1      Degrees of freedom =   205.0000\n",
      "2                       t =   -13.0339\n",
      "3   Two side test p value =     0.0000\n",
      "4  Difference < 0 p value =     0.0000\n",
      "5  Difference > 0 p value =     1.0000\n",
      "6               Cohen's d =    -2.0510\n",
      "7               Hedge's g =    -2.0434\n",
      "8          Glass's delta1 =    -6.8885\n",
      "9        Point-Biserial r =    -0.6732\n"
     ]
    }
   ],
   "source": [
    "summary2, results2 = rp.ttest(group1= df_11a['PMO'][df_11a['Fatigue_State'] == 0], group1_name= \"0\",\n",
    "                            group2= df_11a['PMO'][df_11a['Fatigue_State'] == 1], group2_name= 1)\n",
    "print(summary2)\n",
    "print (results2)"
   ]
  },
  {
   "cell_type": "code",
   "execution_count": 172,
   "id": "9d9a6650-1b41-4a6d-8ec4-196c27af7f6f",
   "metadata": {},
   "outputs": [],
   "source": [
    "def clas(kq):\n",
    "    if ((kq['Fatigue_State'] == 1) ) :    \n",
    "        return 'Yawning'                                             \n",
    "    else:\n",
    "        return 'Non_Yawning'\n",
    "\n",
    "kq = df_11a\n",
    "df_11a['Fatigue_State_'] = df_11a.apply(clas, axis=1)"
   ]
  },
  {
   "cell_type": "markdown",
   "id": "95a2e72a-0f88-410e-89e1-96bb1585af03",
   "metadata": {},
   "source": [
    "Mann-Whitney U Test"
   ]
  },
  {
   "cell_type": "code",
   "execution_count": 173,
   "id": "3b1ec02c-590b-46af-b9fb-33045890bae5",
   "metadata": {},
   "outputs": [
    {
     "data": {
      "text/plain": [
       "MannwhitneyuResult(statistic=2396.5, pvalue=2.6869373610080425e-06)"
      ]
     },
     "execution_count": 173,
     "metadata": {},
     "output_type": "execute_result"
    }
   ],
   "source": [
    "stats.mannwhitneyu(x=df_11a['PERCLOS'][df_11a['Fatigue_State_'] == 'Non_Yawning'], y=df_11a['PERCLOS'][df_11a['Fatigue_State_'] == 'Yawning'], alternative = 'two-sided')"
   ]
  },
  {
   "cell_type": "code",
   "execution_count": 174,
   "id": "edecb3d5-75cc-42ae-8227-d96fa0d0d3f8",
   "metadata": {},
   "outputs": [
    {
     "data": {
      "text/plain": [
       "MannwhitneyuResult(statistic=723.5, pvalue=2.0576823435947178e-22)"
      ]
     },
     "execution_count": 174,
     "metadata": {},
     "output_type": "execute_result"
    }
   ],
   "source": [
    "stats.mannwhitneyu(x=df_11a['PMO'][df_11a['Fatigue_State_'] == 'Non_Yawning'], y=df_11a['PMO'][df_11a['Fatigue_State_'] == 'Yawning'], alternative = 'two-sided')"
   ]
  },
  {
   "cell_type": "markdown",
   "id": "e7ee8d47-5879-4ccb-8f5e-17a7965ed74d",
   "metadata": {},
   "source": [
    "CORRELATION ANALYSIS"
   ]
  },
  {
   "cell_type": "code",
   "execution_count": 175,
   "id": "44208b4d-a9fd-4516-8236-65fd9030e990",
   "metadata": {},
   "outputs": [],
   "source": [
    "df_corr = df_11a[['Fatigue_State', 'PERCLOS', 'PMO']]"
   ]
  },
  {
   "cell_type": "code",
   "execution_count": null,
   "id": "db349de8-cd24-4def-a9e8-a682099f75ad",
   "metadata": {},
   "outputs": [],
   "source": []
  },
  {
   "cell_type": "code",
   "execution_count": 180,
   "id": "3352bad3-8bcb-472e-b54a-9030d1d15635",
   "metadata": {},
   "outputs": [
    {
     "data": {
      "text/plain": [
       "<matplotlib.legend.Legend at 0x21d64b8dbd0>"
      ]
     },
     "execution_count": 180,
     "metadata": {},
     "output_type": "execute_result"
    },
    {
     "data": {
      "image/png": "[encoded data removed]",
      "text/plain": [
       "<Figure size 680x680 with 2 Axes>"
      ]
     },
     "metadata": {},
     "output_type": "display_data"
    }
   ],
   "source": [
    "import matplotlib.patches as mpatches\n",
    "from scipy.stats import pearsonr\n",
    "\n",
    "pvals = df_corr.corr(method=lambda x, y: pearsonr(x, y)[1]) - np.eye(*df_corr.corr().shape)\n",
    "\n",
    "psig = 0.05\n",
    "\n",
    "plt.figure(figsize=(6.8,6.8))\n",
    "\n",
    "sns.heatmap(df_corr.corr()[pvals<psig], annot=True, square=True)\n",
    "\n",
    "\n",
    "sns.heatmap(df_corr.corr()[pvals>=psig], annot=True, square=True, cbar=False, \n",
    "            cmap=sns.color_palette(\"Greys\", n_colors=1, desat=1))\n",
    "\n",
    "colors = [sns.color_palette(\"Greys\", n_colors=1, desat=1)[0]]\n",
    "texts = [f\"insignificant at {psig}\"]\n",
    "patches = [ mpatches.Patch(color=colors[i], label=\"{:s}\".format(texts[i]) ) for i in range(len(texts)) ]\n",
    "plt.legend(handles=patches, bbox_to_anchor=(.85, 1.05), loc='center')"
   ]
  },
  {
   "cell_type": "markdown",
   "id": "6cedf456-fd40-427e-b2b5-e6a991b5d5b1",
   "metadata": {},
   "source": [
    "GRID SEARCH AND HYPER PARAMETER TUNING"
   ]
  },
  {
   "cell_type": "markdown",
   "id": "67ccbebe-bc54-43aa-9681-9e3df65c5293",
   "metadata": {},
   "source": [
    "    SVM"
   ]
  },
  {
   "cell_type": "code",
   "execution_count": 183,
   "id": "1ac2c589-7b3e-4ef6-b614-3728a2e606a3",
   "metadata": {},
   "outputs": [
    {
     "name": "stdout",
     "output_type": "stream",
     "text": [
      "The best parameters are {'C': 10.0, 'gamma': 1.0} with a score of 0.92\n"
     ]
    }
   ],
   "source": [
    "\n",
    "C_range = np.logspace(-2, 10, 13)\n",
    "gamma_range = np.logspace(-9, 3, 13)\n",
    "param_grid = dict(gamma=gamma_range, C=C_range)\n",
    "cv = StratifiedShuffleSplit(n_splits=5, test_size=0.2, random_state=42)\n",
    "grid = GridSearchCV(SVC(kernel='rbf'), param_grid=param_grid, cv=cv)\n",
    "grid.fit(x_s, y_s)\n",
    "\n",
    "print(\n",
    "    \"The best parameters are %s with a score of %0.2f\"\n",
    "    % (grid.best_params_, grid.best_score_)\n",
    ")\n",
    "\n",
    "\n"
   ]
  },
  {
   "cell_type": "markdown",
   "id": "b2b8fa6f-aea6-4197-a5b5-5aae5357d8f1",
   "metadata": {},
   "source": [
    "      DT"
   ]
  },
  {
   "cell_type": "code",
   "execution_count": 184,
   "id": "162dd2c3-13a3-41cb-a8f9-daa5a949590a",
   "metadata": {},
   "outputs": [
    {
     "name": "stdout",
     "output_type": "stream",
     "text": [
      "Fitting 5 folds for each of 90 candidates, totalling 450 fits\n"
     ]
    },
    {
     "data": {
      "text/html": [
       "<style>#sk-container-id-1 {color: black;background-color: white;}#sk-container-id-1 pre{padding: 0;}#sk-container-id-1 div.sk-toggleable {background-color: white;}#sk-container-id-1 label.sk-toggleable__label {cursor: pointer;display: block;width: 100%;margin-bottom: 0;padding: 0.3em;box-sizing: border-box;text-align: center;}#sk-container-id-1 label.sk-toggleable__label-arrow:before {content: \"▸\";float: left;margin-right: 0.25em;color: #696969;}#sk-container-id-1 label.sk-toggleable__label-arrow:hover:before {color: black;}#sk-container-id-1 div.sk-estimator:hover label.sk-toggleable__label-arrow:before {color: black;}#sk-container-id-1 div.sk-toggleable__content {max-height: 0;max-width: 0;overflow: hidden;text-align: left;background-color: #f0f8ff;}#sk-container-id-1 div.sk-toggleable__content pre {margin: 0.2em;color: black;border-radius: 0.25em;background-color: #f0f8ff;}#sk-container-id-1 input.sk-toggleable__control:checked~div.sk-toggleable__content {max-height: 200px;max-width: 100%;overflow: auto;}#sk-container-id-1 input.sk-toggleable__control:checked~label.sk-toggleable__label-arrow:before {content: \"▾\";}#sk-container-id-1 div.sk-estimator input.sk-toggleable__control:checked~label.sk-toggleable__label {background-color: #d4ebff;}#sk-container-id-1 div.sk-label input.sk-toggleable__control:checked~label.sk-toggleable__label {background-color: #d4ebff;}#sk-container-id-1 input.sk-hidden--visually {border: 0;clip: rect(1px 1px 1px 1px);clip: rect(1px, 1px, 1px, 1px);height: 1px;margin: -1px;overflow: hidden;padding: 0;position: absolute;width: 1px;}#sk-container-id-1 div.sk-estimator {font-family: monospace;background-color: #f0f8ff;border: 1px dotted black;border-radius: 0.25em;box-sizing: border-box;margin-bottom: 0.5em;}#sk-container-id-1 div.sk-estimator:hover {background-color: #d4ebff;}#sk-container-id-1 div.sk-parallel-item::after {content: \"\";width: 100%;border-bottom: 1px solid gray;flex-grow: 1;}#sk-container-id-1 div.sk-label:hover label.sk-toggleable__label {background-color: #d4ebff;}#sk-container-id-1 div.sk-serial::before {content: \"\";position: absolute;border-left: 1px solid gray;box-sizing: border-box;top: 0;bottom: 0;left: 50%;z-index: 0;}#sk-container-id-1 div.sk-serial {display: flex;flex-direction: column;align-items: center;background-color: white;padding-right: 0.2em;padding-left: 0.2em;position: relative;}#sk-container-id-1 div.sk-item {position: relative;z-index: 1;}#sk-container-id-1 div.sk-parallel {display: flex;align-items: stretch;justify-content: center;background-color: white;position: relative;}#sk-container-id-1 div.sk-item::before, #sk-container-id-1 div.sk-parallel-item::before {content: \"\";position: absolute;border-left: 1px solid gray;box-sizing: border-box;top: 0;bottom: 0;left: 50%;z-index: -1;}#sk-container-id-1 div.sk-parallel-item {display: flex;flex-direction: column;z-index: 1;position: relative;background-color: white;}#sk-container-id-1 div.sk-parallel-item:first-child::after {align-self: flex-end;width: 50%;}#sk-container-id-1 div.sk-parallel-item:last-child::after {align-self: flex-start;width: 50%;}#sk-container-id-1 div.sk-parallel-item:only-child::after {width: 0;}#sk-container-id-1 div.sk-dashed-wrapped {border: 1px dashed gray;margin: 0 0.4em 0.5em 0.4em;box-sizing: border-box;padding-bottom: 0.4em;background-color: white;}#sk-container-id-1 div.sk-label label {font-family: monospace;font-weight: bold;display: inline-block;line-height: 1.2em;}#sk-container-id-1 div.sk-label-container {text-align: center;}#sk-container-id-1 div.sk-container {/* jupyter's `normalize.less` sets `[hidden] { display: none; }` but bootstrap.min.css set `[hidden] { display: none !important; }` so we also need the `!important` here to be able to override the default hidden behavior on the sphinx rendered scikit-learn.org. See: https://github.com/scikit-learn/scikit-learn/issues/21755 */display: inline-block !important;position: relative;}#sk-container-id-1 div.sk-text-repr-fallback {display: none;}</style><div id=\"sk-container-id-1\" class=\"sk-top-container\"><div class=\"sk-text-repr-fallback\"><pre>DecisionTreeClassifier(ccp_alpha=0.001, max_depth=9, max_features=&#x27;auto&#x27;,\n",
       "                       random_state=42)</pre><b>In a Jupyter environment, please rerun this cell to show the HTML representation or trust the notebook. <br />On GitHub, the HTML representation is unable to render, please try loading this page with nbviewer.org.</b></div><div class=\"sk-container\" hidden><div class=\"sk-item\"><div class=\"sk-estimator sk-toggleable\"><input class=\"sk-toggleable__control sk-hidden--visually\" id=\"sk-estimator-id-1\" type=\"checkbox\" checked><label for=\"sk-estimator-id-1\" class=\"sk-toggleable__label sk-toggleable__label-arrow\">DecisionTreeClassifier</label><div class=\"sk-toggleable__content\"><pre>DecisionTreeClassifier(ccp_alpha=0.001, max_depth=9, max_features=&#x27;auto&#x27;,\n",
       "                       random_state=42)</pre></div></div></div></div></div>"
      ],
      "text/plain": [
       "DecisionTreeClassifier(ccp_alpha=0.001, max_depth=9, max_features='auto',\n",
       "                       random_state=42)"
      ]
     },
     "execution_count": 184,
     "metadata": {},
     "output_type": "execute_result"
    }
   ],
   "source": [
    "param_grid = {'max_features': ['auto', 'sqrt', 'log2'],\n",
    "              'ccp_alpha': [0.1, .01, .001],\n",
    "              'max_depth' : [5, 6, 7, 8, 9],\n",
    "              'criterion' :['gini', 'entropy']\n",
    "             }\n",
    "tree_clas = DecisionTreeClassifier(random_state=42)\n",
    "grid_search = GridSearchCV(estimator=tree_clas, param_grid=param_grid, cv=cv, verbose=True)\n",
    "grid_search.fit(x_s, y_s)\n",
    "\n",
    "final_model = grid_search.best_estimator_\n",
    "final_model\n",
    "\n"
   ]
  },
  {
   "cell_type": "markdown",
   "id": "0e6ec59b-eee2-4d8a-83e0-2a2f10bb3333",
   "metadata": {},
   "source": [
    "       KNN"
   ]
  },
  {
   "cell_type": "code",
   "execution_count": 194,
   "id": "bcc15b27-dc9e-4943-a84d-009262a45aeb",
   "metadata": {},
   "outputs": [
    {
     "data": {
      "text/html": [
       "<style>#sk-container-id-4 {color: black;background-color: white;}#sk-container-id-4 pre{padding: 0;}#sk-container-id-4 div.sk-toggleable {background-color: white;}#sk-container-id-4 label.sk-toggleable__label {cursor: pointer;display: block;width: 100%;margin-bottom: 0;padding: 0.3em;box-sizing: border-box;text-align: center;}#sk-container-id-4 label.sk-toggleable__label-arrow:before {content: \"▸\";float: left;margin-right: 0.25em;color: #696969;}#sk-container-id-4 label.sk-toggleable__label-arrow:hover:before {color: black;}#sk-container-id-4 div.sk-estimator:hover label.sk-toggleable__label-arrow:before {color: black;}#sk-container-id-4 div.sk-toggleable__content {max-height: 0;max-width: 0;overflow: hidden;text-align: left;background-color: #f0f8ff;}#sk-container-id-4 div.sk-toggleable__content pre {margin: 0.2em;color: black;border-radius: 0.25em;background-color: #f0f8ff;}#sk-container-id-4 input.sk-toggleable__control:checked~div.sk-toggleable__content {max-height: 200px;max-width: 100%;overflow: auto;}#sk-container-id-4 input.sk-toggleable__control:checked~label.sk-toggleable__label-arrow:before {content: \"▾\";}#sk-container-id-4 div.sk-estimator input.sk-toggleable__control:checked~label.sk-toggleable__label {background-color: #d4ebff;}#sk-container-id-4 div.sk-label input.sk-toggleable__control:checked~label.sk-toggleable__label {background-color: #d4ebff;}#sk-container-id-4 input.sk-hidden--visually {border: 0;clip: rect(1px 1px 1px 1px);clip: rect(1px, 1px, 1px, 1px);height: 1px;margin: -1px;overflow: hidden;padding: 0;position: absolute;width: 1px;}#sk-container-id-4 div.sk-estimator {font-family: monospace;background-color: #f0f8ff;border: 1px dotted black;border-radius: 0.25em;box-sizing: border-box;margin-bottom: 0.5em;}#sk-container-id-4 div.sk-estimator:hover {background-color: #d4ebff;}#sk-container-id-4 div.sk-parallel-item::after {content: \"\";width: 100%;border-bottom: 1px solid gray;flex-grow: 1;}#sk-container-id-4 div.sk-label:hover label.sk-toggleable__label {background-color: #d4ebff;}#sk-container-id-4 div.sk-serial::before {content: \"\";position: absolute;border-left: 1px solid gray;box-sizing: border-box;top: 0;bottom: 0;left: 50%;z-index: 0;}#sk-container-id-4 div.sk-serial {display: flex;flex-direction: column;align-items: center;background-color: white;padding-right: 0.2em;padding-left: 0.2em;position: relative;}#sk-container-id-4 div.sk-item {position: relative;z-index: 1;}#sk-container-id-4 div.sk-parallel {display: flex;align-items: stretch;justify-content: center;background-color: white;position: relative;}#sk-container-id-4 div.sk-item::before, #sk-container-id-4 div.sk-parallel-item::before {content: \"\";position: absolute;border-left: 1px solid gray;box-sizing: border-box;top: 0;bottom: 0;left: 50%;z-index: -1;}#sk-container-id-4 div.sk-parallel-item {display: flex;flex-direction: column;z-index: 1;position: relative;background-color: white;}#sk-container-id-4 div.sk-parallel-item:first-child::after {align-self: flex-end;width: 50%;}#sk-container-id-4 div.sk-parallel-item:last-child::after {align-self: flex-start;width: 50%;}#sk-container-id-4 div.sk-parallel-item:only-child::after {width: 0;}#sk-container-id-4 div.sk-dashed-wrapped {border: 1px dashed gray;margin: 0 0.4em 0.5em 0.4em;box-sizing: border-box;padding-bottom: 0.4em;background-color: white;}#sk-container-id-4 div.sk-label label {font-family: monospace;font-weight: bold;display: inline-block;line-height: 1.2em;}#sk-container-id-4 div.sk-label-container {text-align: center;}#sk-container-id-4 div.sk-container {/* jupyter's `normalize.less` sets `[hidden] { display: none; }` but bootstrap.min.css set `[hidden] { display: none !important; }` so we also need the `!important` here to be able to override the default hidden behavior on the sphinx rendered scikit-learn.org. See: https://github.com/scikit-learn/scikit-learn/issues/21755 */display: inline-block !important;position: relative;}#sk-container-id-4 div.sk-text-repr-fallback {display: none;}</style><div id=\"sk-container-id-4\" class=\"sk-top-container\"><div class=\"sk-text-repr-fallback\"><pre>KNeighborsClassifier(n_neighbors=7)</pre><b>In a Jupyter environment, please rerun this cell to show the HTML representation or trust the notebook. <br />On GitHub, the HTML representation is unable to render, please try loading this page with nbviewer.org.</b></div><div class=\"sk-container\" hidden><div class=\"sk-item\"><div class=\"sk-estimator sk-toggleable\"><input class=\"sk-toggleable__control sk-hidden--visually\" id=\"sk-estimator-id-4\" type=\"checkbox\" checked><label for=\"sk-estimator-id-4\" class=\"sk-toggleable__label sk-toggleable__label-arrow\">KNeighborsClassifier</label><div class=\"sk-toggleable__content\"><pre>KNeighborsClassifier(n_neighbors=7)</pre></div></div></div></div></div>"
      ],
      "text/plain": [
       "KNeighborsClassifier(n_neighbors=7)"
      ]
     },
     "execution_count": 194,
     "metadata": {},
     "output_type": "execute_result"
    }
   ],
   "source": [
    "k_range = list(range(1, 31))\n",
    "weight_options = ['uniform', 'distance']\n",
    "param_grid = dict(n_neighbors=k_range, weights=weight_options)\n",
    "knn = KNeighborsClassifier()\n",
    "grid_knn = GridSearchCV(knn, param_grid, cv=cv, scoring='accuracy', return_train_score=False)\n",
    "grid_knn.fit(x_s, y_s)\n",
    "\n",
    "final_model_knn = grid_knn.best_estimator_\n",
    "final_model_knn"
   ]
  },
  {
   "cell_type": "markdown",
   "id": "8533276f-7b64-4edf-ab05-73813ef26493",
   "metadata": {},
   "source": [
    "    LR"
   ]
  },
  {
   "cell_type": "code",
   "execution_count": 186,
   "id": "91a8a7f1-4a39-492c-951f-494a6d1ded14",
   "metadata": {},
   "outputs": [
    {
     "name": "stdout",
     "output_type": "stream",
     "text": [
      "tuned hpyerparameters :(best parameters)  {'C': 0.1, 'penalty': 'l2'}\n",
      "accuracy : 0.9016393442622951\n"
     ]
    }
   ],
   "source": [
    "grid_LR={\"C\":np.logspace(-3,3,7), \"penalty\":[\"l1\",\"l2\"]}# l1 lasso l2 ridge\n",
    "logreg=LogisticRegression()\n",
    "logreg_cv=GridSearchCV(logreg,grid_LR,cv=cv)\n",
    "logreg_cv.fit(x_s,y_s)\n",
    "\n",
    "print(\"tuned hpyerparameters :(best parameters) \",logreg_cv.best_params_)\n",
    "print(\"accuracy :\",logreg_cv.best_score_)"
   ]
  },
  {
   "cell_type": "markdown",
   "id": "00d30d6a-a86c-4194-8a79-3be5c837ce9b",
   "metadata": {},
   "source": [
    "      k-Means"
   ]
  },
  {
   "cell_type": "code",
   "execution_count": 187,
   "id": "16c19d42-3689-453d-bd4d-75f528c3ca0b",
   "metadata": {},
   "outputs": [
    {
     "name": "stdout",
     "output_type": "stream",
     "text": [
      "Best hyperparameters:  {'algorithm': 'auto', 'init': 'k-means++', 'max_iter': 100, 'n_clusters': 2, 'n_init': 5, 'random_state': 42, 'tol': 0.01}\n",
      "Optimal number of clusters based on parameter grid: 2\n"
     ]
    }
   ],
   "source": [
    "# Define the parameter grid\n",
    "param_grid1 = {\n",
    "    'n_clusters': [2],\n",
    "    'init': ['k-means++', 'random'],\n",
    "    'n_init': [5, 10, 15],\n",
    "    'max_iter': [100, 200, 300, 400, 500],\n",
    "    'tol': [0.0001, 0.001, 0.01],\n",
    "    'algorithm': ['auto', 'full', 'elkan'],\n",
    "    'random_state': [0, 42, 100]\n",
    "}\n",
    "\n",
    "# Create the KMeans object\n",
    "kmeans = KMeans(random_state=42)\n",
    "\n",
    "# Perform grid search\n",
    "grid_search = GridSearchCV(kmeans, param_grid=param_grid1, cv=cv, n_jobs=-1)\n",
    "\n",
    "# Fit the grid search to the data\n",
    "grid_search.fit(x_s,y_s)\n",
    "\n",
    "# Print the best hyperparameters\n",
    "print(\"Best hyperparameters: \", grid_search.best_params_)\n",
    "print('Optimal number of clusters based on parameter grid: ' + str(grid_search.best_params_['n_clusters']))"
   ]
  },
  {
   "cell_type": "code",
   "execution_count": null,
   "id": "fafe7a9f-fe05-4789-87d4-3569d036e981",
   "metadata": {},
   "outputs": [],
   "source": [
    "from sklearn.metrics import silhouette_samples, silhouette_score\n",
    "wcss = []\n",
    "range_n_clusters = range(2, 11)\n",
    "for i in range_n_clusters:\n",
    "    kmeans = KMeans(n_clusters = i, \n",
    "                init=grid_search.best_params_['init'], \n",
    "                max_iter=grid_search.best_params_['max_iter'], \n",
    "                tol=grid_search.best_params_['tol'], \n",
    "                algorithm=grid_search.best_params_['algorithm'], \n",
    "                random_state=42\n",
    "                )\n",
    "    kmeans.fit(x_s)\n",
    "    wcss.append(kmeans.inertia_)\n",
    "    \n",
    "    cluster_labels = kmeans.fit_predict(x_s)\n",
    "    silhouette_avg = silhouette_score(x_s, cluster_labels)\n",
    "    \n",
    "    print(f'For n_clusters = {i}, the average silhouette score is : {round(silhouette_avg, 2)}')\n",
    "    \n",
    "plt.plot(range(2, 11), wcss, marker = 'o', linestyle = '--')\n",
    "plt.title('Elbow Method')\n",
    "plt.xlabel('Number of clusters')\n",
    "plt.ylabel('WCSS')\n",
    "\n",
    "# Add a vertical line indicating the number of clusters\n",
    "n_clusters_g = grid_search.best_params_['n_clusters']\n",
    "plt.axvline(x=n_clusters_g, linestyle='--', color='red', label=f'Number of Clusters: {n_clusters_g}')\n",
    "plt.annotate(f'Optimal Number of Clusters: {n_clusters_g}', xy=(n_clusters_g, wcss[n_clusters_g-2]), xytext=(n_clusters_g-1, wcss[n_clusters_g-2]+5000),\n",
    "            arrowprops=dict(arrowstyle='->',lw=1, color='red'), fontsize=12)\n",
    "plt.legend()\n",
    "plt.show()"
   ]
  },
  {
   "cell_type": "markdown",
   "id": "af3aaccc-963f-4224-abfe-b7873f1f4185",
   "metadata": {},
   "source": [
    "     GNB"
   ]
  },
  {
   "cell_type": "code",
   "execution_count": 189,
   "id": "1fba51be-d217-46bc-ba6d-0f646bd48a4e",
   "metadata": {},
   "outputs": [
    {
     "name": "stdout",
     "output_type": "stream",
     "text": [
      "Fitting 5 folds for each of 14 candidates, totalling 70 fits\n"
     ]
    },
    {
     "data": {
      "text/plain": [
       "{'var_smoothing': 0.01}"
      ]
     },
     "execution_count": 189,
     "metadata": {},
     "output_type": "execute_result"
    }
   ],
   "source": [
    "parameters_gnb = {\n",
    "  'var_smoothing': [1e-2, 1e-3, 1e-4, 1e-5, 1e-6, 1e-7, 1e-8, 1e-9, 1e-10, 1e-11, 1e-12, 1e-13, 1e-14, 1e-15]\n",
    "}\n",
    "cv_model = GridSearchCV(estimator=GaussianNB(), param_grid=parameters_gnb, cv=cv, verbose=1, scoring='accuracy')\n",
    "cv_model.fit(x_s, y_s)\n",
    "cv_model.best_params_"
   ]
  },
  {
   "cell_type": "markdown",
   "id": "cc5b9197-e8c8-45fc-9ba7-1a66a8fe2721",
   "metadata": {},
   "source": [
    "    RF"
   ]
  },
  {
   "cell_type": "code",
   "execution_count": 190,
   "id": "c0014275-c6e5-4ac6-b85f-082dbba16e71",
   "metadata": {},
   "outputs": [
    {
     "data": {
      "text/plain": [
       "{'criterion': 'gini',\n",
       " 'max_depth': 6,\n",
       " 'max_features': 'auto',\n",
       " 'n_estimators': 100}"
      ]
     },
     "execution_count": 190,
     "metadata": {},
     "output_type": "execute_result"
    }
   ],
   "source": [
    "param_grid = { \n",
    "    'n_estimators': [100, 200, 500],\n",
    "    'max_features': ['auto', 'sqrt', 'log2'],\n",
    "    'max_depth' : [4,5,6,7,8],\n",
    "    'criterion' :['gini', 'entropy']\n",
    "}\n",
    "\n",
    "\n",
    "\n",
    "CV_rfc = GridSearchCV(estimator=RandomForestClassifier(), param_grid=param_grid, cv= cv)\n",
    "CV_rfc.fit(x_s, y_s)\n",
    "\n",
    "CV_rfc.best_params_"
   ]
  },
  {
   "cell_type": "markdown",
   "id": "fd43e2d3-b96a-4730-bda4-535cacd440e4",
   "metadata": {},
   "source": [
    "      XBG"
   ]
  },
  {
   "cell_type": "code",
   "execution_count": 192,
   "id": "ef045c60-bb76-41b1-87f5-e34430af8c89",
   "metadata": {},
   "outputs": [
    {
     "name": "stdout",
     "output_type": "stream",
     "text": [
      "Fitting 5 folds for each of 96 candidates, totalling 480 fits\n"
     ]
    },
    {
     "data": {
      "text/html": [
       "<style>#sk-container-id-3 {color: black;background-color: white;}#sk-container-id-3 pre{padding: 0;}#sk-container-id-3 div.sk-toggleable {background-color: white;}#sk-container-id-3 label.sk-toggleable__label {cursor: pointer;display: block;width: 100%;margin-bottom: 0;padding: 0.3em;box-sizing: border-box;text-align: center;}#sk-container-id-3 label.sk-toggleable__label-arrow:before {content: \"▸\";float: left;margin-right: 0.25em;color: #696969;}#sk-container-id-3 label.sk-toggleable__label-arrow:hover:before {color: black;}#sk-container-id-3 div.sk-estimator:hover label.sk-toggleable__label-arrow:before {color: black;}#sk-container-id-3 div.sk-toggleable__content {max-height: 0;max-width: 0;overflow: hidden;text-align: left;background-color: #f0f8ff;}#sk-container-id-3 div.sk-toggleable__content pre {margin: 0.2em;color: black;border-radius: 0.25em;background-color: #f0f8ff;}#sk-container-id-3 input.sk-toggleable__control:checked~div.sk-toggleable__content {max-height: 200px;max-width: 100%;overflow: auto;}#sk-container-id-3 input.sk-toggleable__control:checked~label.sk-toggleable__label-arrow:before {content: \"▾\";}#sk-container-id-3 div.sk-estimator input.sk-toggleable__control:checked~label.sk-toggleable__label {background-color: #d4ebff;}#sk-container-id-3 div.sk-label input.sk-toggleable__control:checked~label.sk-toggleable__label {background-color: #d4ebff;}#sk-container-id-3 input.sk-hidden--visually {border: 0;clip: rect(1px 1px 1px 1px);clip: rect(1px, 1px, 1px, 1px);height: 1px;margin: -1px;overflow: hidden;padding: 0;position: absolute;width: 1px;}#sk-container-id-3 div.sk-estimator {font-family: monospace;background-color: #f0f8ff;border: 1px dotted black;border-radius: 0.25em;box-sizing: border-box;margin-bottom: 0.5em;}#sk-container-id-3 div.sk-estimator:hover {background-color: #d4ebff;}#sk-container-id-3 div.sk-parallel-item::after {content: \"\";width: 100%;border-bottom: 1px solid gray;flex-grow: 1;}#sk-container-id-3 div.sk-label:hover label.sk-toggleable__label {background-color: #d4ebff;}#sk-container-id-3 div.sk-serial::before {content: \"\";position: absolute;border-left: 1px solid gray;box-sizing: border-box;top: 0;bottom: 0;left: 50%;z-index: 0;}#sk-container-id-3 div.sk-serial {display: flex;flex-direction: column;align-items: center;background-color: white;padding-right: 0.2em;padding-left: 0.2em;position: relative;}#sk-container-id-3 div.sk-item {position: relative;z-index: 1;}#sk-container-id-3 div.sk-parallel {display: flex;align-items: stretch;justify-content: center;background-color: white;position: relative;}#sk-container-id-3 div.sk-item::before, #sk-container-id-3 div.sk-parallel-item::before {content: \"\";position: absolute;border-left: 1px solid gray;box-sizing: border-box;top: 0;bottom: 0;left: 50%;z-index: -1;}#sk-container-id-3 div.sk-parallel-item {display: flex;flex-direction: column;z-index: 1;position: relative;background-color: white;}#sk-container-id-3 div.sk-parallel-item:first-child::after {align-self: flex-end;width: 50%;}#sk-container-id-3 div.sk-parallel-item:last-child::after {align-self: flex-start;width: 50%;}#sk-container-id-3 div.sk-parallel-item:only-child::after {width: 0;}#sk-container-id-3 div.sk-dashed-wrapped {border: 1px dashed gray;margin: 0 0.4em 0.5em 0.4em;box-sizing: border-box;padding-bottom: 0.4em;background-color: white;}#sk-container-id-3 div.sk-label label {font-family: monospace;font-weight: bold;display: inline-block;line-height: 1.2em;}#sk-container-id-3 div.sk-label-container {text-align: center;}#sk-container-id-3 div.sk-container {/* jupyter's `normalize.less` sets `[hidden] { display: none; }` but bootstrap.min.css set `[hidden] { display: none !important; }` so we also need the `!important` here to be able to override the default hidden behavior on the sphinx rendered scikit-learn.org. See: https://github.com/scikit-learn/scikit-learn/issues/21755 */display: inline-block !important;position: relative;}#sk-container-id-3 div.sk-text-repr-fallback {display: none;}</style><div id=\"sk-container-id-3\" class=\"sk-top-container\"><div class=\"sk-text-repr-fallback\"><pre>XGBClassifier(base_score=None, booster=None, callbacks=None,\n",
       "              colsample_bylevel=None, colsample_bynode=None,\n",
       "              colsample_bytree=None, device=None, early_stopping_rounds=None,\n",
       "              enable_categorical=False, eval_metric=None, feature_types=None,\n",
       "              gamma=None, grow_policy=None, importance_type=None,\n",
       "              interaction_constraints=None, learning_rate=0.1, max_bin=None,\n",
       "              max_cat_threshold=None, max_cat_to_onehot=None,\n",
       "              max_delta_step=None, max_depth=4, max_leaves=None,\n",
       "              min_child_weight=None, missing=nan, monotone_constraints=None,\n",
       "              multi_strategy=None, n_estimators=140, n_jobs=None, nthread=4,\n",
       "              num_parallel_tree=None, ...)</pre><b>In a Jupyter environment, please rerun this cell to show the HTML representation or trust the notebook. <br />On GitHub, the HTML representation is unable to render, please try loading this page with nbviewer.org.</b></div><div class=\"sk-container\" hidden><div class=\"sk-item\"><div class=\"sk-estimator sk-toggleable\"><input class=\"sk-toggleable__control sk-hidden--visually\" id=\"sk-estimator-id-3\" type=\"checkbox\" checked><label for=\"sk-estimator-id-3\" class=\"sk-toggleable__label sk-toggleable__label-arrow\">XGBClassifier</label><div class=\"sk-toggleable__content\"><pre>XGBClassifier(base_score=None, booster=None, callbacks=None,\n",
       "              colsample_bylevel=None, colsample_bynode=None,\n",
       "              colsample_bytree=None, device=None, early_stopping_rounds=None,\n",
       "              enable_categorical=False, eval_metric=None, feature_types=None,\n",
       "              gamma=None, grow_policy=None, importance_type=None,\n",
       "              interaction_constraints=None, learning_rate=0.1, max_bin=None,\n",
       "              max_cat_threshold=None, max_cat_to_onehot=None,\n",
       "              max_delta_step=None, max_depth=4, max_leaves=None,\n",
       "              min_child_weight=None, missing=nan, monotone_constraints=None,\n",
       "              multi_strategy=None, n_estimators=140, n_jobs=None, nthread=4,\n",
       "              num_parallel_tree=None, ...)</pre></div></div></div></div></div>"
      ],
      "text/plain": [
       "XGBClassifier(base_score=None, booster=None, callbacks=None,\n",
       "              colsample_bylevel=None, colsample_bynode=None,\n",
       "              colsample_bytree=None, device=None, early_stopping_rounds=None,\n",
       "              enable_categorical=False, eval_metric=None, feature_types=None,\n",
       "              gamma=None, grow_policy=None, importance_type=None,\n",
       "              interaction_constraints=None, learning_rate=0.1, max_bin=None,\n",
       "              max_cat_threshold=None, max_cat_to_onehot=None,\n",
       "              max_delta_step=None, max_depth=4, max_leaves=None,\n",
       "              min_child_weight=None, missing=nan, monotone_constraints=None,\n",
       "              multi_strategy=None, n_estimators=140, n_jobs=None, nthread=4,\n",
       "              num_parallel_tree=None, ...)"
      ]
     },
     "execution_count": 192,
     "metadata": {},
     "output_type": "execute_result"
    }
   ],
   "source": [
    "estimator_xgb = XGBClassifier(\n",
    "    objective= 'binary:logistic',\n",
    "    nthread=4,\n",
    "    seed=42\n",
    ")\n",
    "\n",
    "parameters_xgb = {\n",
    "    'max_depth': range (2, 10, 1),\n",
    "    'n_estimators': range(60, 220, 40),\n",
    "    'learning_rate': [0.1, 0.01, 0.05]\n",
    "}\n",
    "\n",
    "\n",
    "grid_search_xgb = GridSearchCV(\n",
    "    estimator=estimator_xgb,\n",
    "    param_grid=parameters_xgb,\n",
    "    scoring = 'accuracy',\n",
    "    n_jobs = 10,\n",
    "    cv = cv,\n",
    "    verbose=True\n",
    ")\n",
    "\n",
    "grid_search_xgb.fit(x_s, y_s)\n",
    "\n",
    "grid_search_xgb.best_estimator_\n",
    "\n"
   ]
  },
  {
   "cell_type": "markdown",
   "id": "342b3e06-14f5-40c2-897d-92e56d8b1757",
   "metadata": {},
   "source": [
    "DEFINE THE CLASSIFIERS"
   ]
  },
  {
   "cell_type": "code",
   "execution_count": 46,
   "id": "3c10d2da-e5c0-4938-92b2-cdea1d49beda",
   "metadata": {},
   "outputs": [],
   "source": [
    "def get_classifiers():\n",
    "    \n",
    "    classifiers = dict()\n",
    "\n",
    "    classifiers['RF']=RandomForestClassifier(criterion = 'gini', max_depth = 6, max_features = 'auto', n_estimators = 100, random_state=42)\n",
    "    #classifiers['XGB']=XGBClassifier(enable_categorical= 'False', learning_rate=0.1, max_depth=4, n_estimators=140, nthread=4, random_state=42)\n",
    "    classifiers['SVM']=SVC(kernel= 'rbf', C = 10.0, gamma = 1, random_state=42)\n",
    "    \n",
    "    classifiers['KNN']=KNeighborsClassifier(n_neighbors=7)\n",
    "    classifiers['DT']=DecisionTreeClassifier(ccp_alpha=0.001, max_depth=9, max_features='auto', random_state=42)\n",
    "    classifiers['LR']=LogisticRegression(C = 0.1, penalty = 'l2', random_state=42)\n",
    "\n",
    "    classifiers['GNB']=GaussianNB(var_smoothing = 0.01)\n",
    "    classifiers['k-Means']= KMeans(n_clusters=2, random_state=42, algorithm = 'auto', init = 'k-means++', max_iter = 100, n_init = 5, tol = 0.01)\n",
    "\n",
    "    \n",
    "    return classifiers"
   ]
  },
  {
   "cell_type": "markdown",
   "id": "23675ba5-8040-4546-b723-26957ecdfba3",
   "metadata": {},
   "source": [
    "CROSS VALIDATION"
   ]
  },
  {
   "cell_type": "code",
   "execution_count": 49,
   "id": "d8a4f034-2d80-41e8-94de-1af675217e1c",
   "metadata": {},
   "outputs": [],
   "source": [
    "#UNBALANCED DATASET\n",
    "#x = X\n",
    "#y = df_11a['Fatigue_State']\n",
    "\n",
    "#BALANCED DATASET\n",
    "x = x_s\n",
    "y = y_s\n"
   ]
  },
  {
   "cell_type": "code",
   "execution_count": 50,
   "id": "722ba81e-00bd-4c6c-83b0-0ad5049ab4af",
   "metadata": {},
   "outputs": [],
   "source": [
    "from sklearn import metrics\n",
    "\n",
    "\n",
    "def evaluate_model(model, x, y):\n",
    "    cv=StratifiedShuffleSplit(n_splits=5, test_size=0.2, random_state=42)\n",
    "    scores=cross_val_score(model, x, y, scoring='accuracy', cv=cv, n_jobs=-1, error_score='raise')\n",
    "    return scores\n",
    "\n",
    "def evaluate_model1(model, x, y):\n",
    "    cv=StratifiedShuffleSplit(n_splits=5, test_size=0.2, random_state=42)\n",
    "    scores1=cross_val_score(model, x, y, scoring='f1', cv=cv, n_jobs=-1, error_score='raise')\n",
    "    return scores1\n",
    "\n",
    "def evaluate_model2(model, x, y):\n",
    "    cv=StratifiedShuffleSplit(n_splits=5, test_size=0.2, random_state=42)\n",
    "    scores2=cross_val_score(model, x, y, scoring='recall', cv=cv, n_jobs=-1, error_score='raise')\n",
    "    return scores2\n",
    "\n",
    "def evaluate_model3(model, x, y):\n",
    "    cv=StratifiedShuffleSplit(n_splits=5, test_size=0.2, random_state=42)\n",
    "    scores3=cross_val_score(model, x, y, scoring='precision', cv=cv, n_jobs=-1, error_score='raise')\n",
    "    return scores3\n",
    "\n",
    "def evaluate_model4(model, x, y):\n",
    "    cv=StratifiedShuffleSplit(n_splits=5, test_size=0.2, random_state=42)\n",
    "    scores4=cross_val_score(model, x, y, scoring='roc_auc', cv=cv, n_jobs=-1, error_score='raise')\n",
    "    return scores4"
   ]
  },
  {
   "cell_type": "markdown",
   "id": "19e9b3ba-7b3c-47db-a8e9-4ea88f2f483a",
   "metadata": {},
   "source": [
    "RUNNING THE MODELS"
   ]
  },
  {
   "cell_type": "code",
   "execution_count": 51,
   "id": "f7d3b0dc-64df-432e-b92f-0198bb6de584",
   "metadata": {},
   "outputs": [
    {
     "name": "stdout",
     "output_type": "stream",
     "text": [
      ">RF 0.938 (0.030) 0.940 0.974 0.909\n",
      ">SVM 0.921 (0.028) 0.925 0.974 0.885\n",
      ">KNN 0.915 (0.033) 0.918 0.960 0.883\n",
      ">DT 0.911 (0.046) 0.912 0.921 0.904\n",
      ">LR 0.902 (0.027) 0.898 0.874 0.925\n",
      ">GNB 0.898 (0.030) 0.895 0.881 0.914\n",
      ">k-Means 0.479 (0.237) 0.536 0.556 0.615\n"
     ]
    }
   ],
   "source": [
    "from numpy import mean\n",
    "from numpy import std\n",
    "classifiers = get_classifiers()\n",
    "\n",
    "results, results1, results2, results3, results4, names = list(), list(), list(), list(), list(), list()\n",
    "\n",
    "for name, model in classifiers.items():\n",
    "    scores=evaluate_model(model, x, y)\n",
    "    scores1=evaluate_model1(model, x, y)\n",
    "    scores2=evaluate_model2(model, x, y)\n",
    "    scores3=evaluate_model3(model, x, y)\n",
    "    #scores4=evaluate_model4(model, x, y)\n",
    "    #scores=evaluate_model(model, X, y)\n",
    "    results.append(scores*100)\n",
    "    results1.append(scores1*100)\n",
    "    results2.append(scores2*100)\n",
    "    results3.append(scores3*100)\n",
    "    #results4.append(scores4*100)\n",
    "    names.append(name)\n",
    "    #print ('>%s %.3f (%.3f) %.3f %.3f %.3f %.3f' %(name, mean(scores), std(scores), mean(scores1), mean(scores2), mean(scores3), mean(scores4)))\n",
    "    print ('>%s %.3f (%.3f) %.3f %.3f %.3f' %(name, mean(scores), std(scores), mean(scores1), mean(scores2), mean(scores3)))"
   ]
  },
  {
   "cell_type": "code",
   "execution_count": 52,
   "id": "9947dfc1-391e-4856-ac28-7ae7d47b68e8",
   "metadata": {},
   "outputs": [
    {
     "data": {
      "image/png": "[encoded data removed]",
      "text/plain": [
       "<Figure size 640x480 with 1 Axes>"
      ]
     },
     "metadata": {},
     "output_type": "display_data"
    }
   ],
   "source": [
    "from matplotlib import pyplot\n",
    "pyplot.boxplot(results, labels=names, showmeans = True)\n",
    "plt.xticks(rotation='horizontal')\n",
    "#plt.title('Average Model Accuracy')\n",
    "plt.xlabel('ML Algorithm') \n",
    "plt.ylabel('Percentage Accuracy') \n",
    "pyplot.show()"
   ]
  },
  {
   "cell_type": "code",
   "execution_count": 53,
   "id": "948644a1-1234-4e1c-bea2-5042faa37170",
   "metadata": {},
   "outputs": [],
   "source": [
    "from sklearn.model_selection import train_test_split\n",
    "\n",
    "X_train, X_test, Y_train, Y_test = train_test_split(x, y, test_size=0.2, random_state=42)"
   ]
  },
  {
   "cell_type": "code",
   "execution_count": 54,
   "id": "e770e30e-67fa-4e93-90a9-a73800d3a873",
   "metadata": {},
   "outputs": [
    {
     "name": "stdout",
     "output_type": "stream",
     "text": [
      "0.9016393442622951 0.9672131147540983 0.9836065573770492\n"
     ]
    }
   ],
   "source": [
    "SV_Model=SVC(kernel= 'rbf', C = 10.0, gamma = 1, random_state=42, probability = True)\n",
    "SV_Model.fit(X_train, Y_train)\n",
    "\n",
    "XGB_Model = XGBClassifier(enable_categorical= 'False', learning_rate=0.1, max_depth=4, n_estimators=140, nthread=4, random_state=42)\n",
    "XGB_Model.fit(X_train, Y_train)\n",
    "\n",
    "RF_Model=RandomForestClassifier(criterion = 'gini', max_depth = 6, max_features = 'auto', n_estimators = 100, random_state=42)\n",
    "RF_Model.fit(X_train, Y_train)\n",
    "\n",
    "\n",
    "\n",
    "SVM_Class=SV_Model.predict(X_test)\n",
    "accuracy1 = metrics.accuracy_score(Y_test, SVM_Class)\n",
    "\n",
    "XGB_Class=XGB_Model.predict(X_test)\n",
    "accuracy2 = metrics.accuracy_score(Y_test, XGB_Class)\n",
    "\n",
    "RF_Class=RF_Model.predict(X_test)\n",
    "accuracy3 = metrics.accuracy_score(Y_test, RF_Class)\n",
    "\n",
    "\n",
    "\n",
    "print (accuracy1, accuracy2, accuracy3)\n",
    "\n",
    "\n"
   ]
  },
  {
   "cell_type": "markdown",
   "id": "14ab5121-0f99-4838-b2c9-6001510eae25",
   "metadata": {},
   "source": [
    "CONFUSION MATRIX FOR THE BEST 4 CLASSIFIERS"
   ]
  },
  {
   "cell_type": "code",
   "execution_count": 55,
   "id": "2d417334-1e67-4e00-84cd-23ccc36c52a2",
   "metadata": {},
   "outputs": [
    {
     "data": {
      "image/png": "[encoded data removed]",
      "text/plain": [
       "<Figure size 400x400 with 2 Axes>"
      ]
     },
     "metadata": {},
     "output_type": "display_data"
    }
   ],
   "source": [
    "from sklearn.model_selection import cross_val_predict\n",
    "SV_Model=SVC(kernel= 'rbf', C = 10.0, gamma = 1, random_state=42, probability = True)\n",
    "\n",
    "SVM_pred=cross_val_predict(SV_Model, x, y, cv=5)\n",
    "confusion_matrix = metrics.confusion_matrix(y, SVM_pred)\n",
    "\n",
    "\n",
    "confusion_matrix1 = confusion_matrix.astype('float') / confusion_matrix.sum(axis=1)[:, np.newaxis]\n",
    "fig, ax = plt.subplots(figsize=(4, 4))\n",
    "cm_display = metrics.ConfusionMatrixDisplay(confusion_matrix = confusion_matrix1, display_labels = ['Not Fatigue', 'Fatigue'])\n",
    "\n",
    "cm_display.plot(ax=ax)\n",
    "\n",
    "\n",
    "plt.show()\n"
   ]
  },
  {
   "cell_type": "code",
   "execution_count": 65,
   "id": "14c62c4c-3f1e-4957-bb79-1ca30e8bcf0a",
   "metadata": {},
   "outputs": [
    {
     "data": {
      "image/png": "[encoded data removed]",
      "text/plain": [
       "<Figure size 400x400 with 2 Axes>"
      ]
     },
     "metadata": {},
     "output_type": "display_data"
    }
   ],
   "source": [
    "\n",
    "XGB_Model = XGBClassifier(enable_categorical= 'False', learning_rate=0.1, max_depth=4, n_estimators=140, nthread=4, random_state=42)\n",
    "\n",
    "XGB_pred=cross_val_predict(XGB_Model, x, y, cv=5)\n",
    "confusion_matrix1 = metrics.confusion_matrix(y, XGB_pred)\n",
    "\n",
    "\n",
    "confusion_matrix_1 = confusion_matrix1.astype('float') / confusion_matrix1.sum(axis=1)[:, np.newaxis]\n",
    "fig, ax = plt.subplots(figsize=(4, 4))\n",
    "cm_display = metrics.ConfusionMatrixDisplay(confusion_matrix = confusion_matrix_1, display_labels = ['Not Fatigue', 'Fatigue'])\n",
    "\n",
    "cm_display.plot(ax=ax)\n",
    "\n",
    "\n",
    "plt.show()\n",
    "\n",
    "\n",
    "\n"
   ]
  },
  {
   "cell_type": "code",
   "execution_count": 57,
   "id": "6fda320a-4c2e-4590-b72a-fd338167ad7d",
   "metadata": {},
   "outputs": [
    {
     "data": {
      "image/png": "[encoded data removed]",
      "text/plain": [
       "<Figure size 400x400 with 2 Axes>"
      ]
     },
     "metadata": {},
     "output_type": "display_data"
    }
   ],
   "source": [
    "RF_Model=RandomForestClassifier(criterion = 'gini', max_depth = 6, max_features = 'auto', n_estimators = 100, random_state=42)\n",
    "RF_pred=cross_val_predict(RF_Model, x, y, cv=5)\n",
    "confusion_matrix2 = metrics.confusion_matrix(y, RF_pred)\n",
    "\n",
    "\n",
    "confusion_matrix_2 = confusion_matrix2.astype('float') / confusion_matrix2.sum(axis=1)[:, np.newaxis]\n",
    "fig, ax = plt.subplots(figsize=(4, 4))\n",
    "cm_display = metrics.ConfusionMatrixDisplay(confusion_matrix = confusion_matrix_2, display_labels = ['Not Fatigue', 'Fatigue'])\n",
    "\n",
    "cm_display.plot(ax=ax)\n",
    "\n",
    "\n",
    "plt.show()\n",
    "\n",
    "\n"
   ]
  },
  {
   "cell_type": "markdown",
   "id": "e3cbd44c-bd49-4a75-94dd-0c5938a12204",
   "metadata": {},
   "source": [
    "CHECKING PERFOMANCES UNDER DIFFERENT CONDITIONS i.e. Glasses , NoGlasses , SunGlasses"
   ]
  },
  {
   "cell_type": "markdown",
   "id": "af593593-b768-4433-a673-3c9a841d20af",
   "metadata": {},
   "source": [
    "      NOGLASSES"
   ]
  },
  {
   "cell_type": "code",
   "execution_count": 219,
   "id": "c229b748-8e96-445a-bb10-8c04f87b088f",
   "metadata": {},
   "outputs": [
    {
     "name": "stdout",
     "output_type": "stream",
     "text": [
      "0.9145299145299145 0.9401709401709402 0.9401709401709402\n"
     ]
    }
   ],
   "source": [
    "SVM_Class_1=SV_Model.predict(Xnoglasses)\n",
    "SVM_acc1 = metrics.accuracy_score(y_noglasses, SVM_Class_1)\n",
    "\n",
    "XGB_Class_1=XGB_Model.predict(Xnoglasses)\n",
    "XGB_acc1 = metrics.accuracy_score(y_noglasses, XGB_Class_1)\n",
    "\n",
    "RF_Class_1=RF_Model.predict(Xnoglasses)\n",
    "RF_acc1 = metrics.accuracy_score(y_noglasses, RF_Class_1)\n",
    "\n",
    "print (SVM_acc1, XGB_acc1, RF_acc1)"
   ]
  },
  {
   "cell_type": "markdown",
   "id": "3af3e3a9-7a2c-43d3-b2fb-dde8f4ec18cc",
   "metadata": {},
   "source": [
    "         GLASSES"
   ]
  },
  {
   "cell_type": "code",
   "execution_count": 220,
   "id": "e2ca2192-31c3-48d8-aab0-4ff058a102b2",
   "metadata": {},
   "outputs": [
    {
     "name": "stdout",
     "output_type": "stream",
     "text": [
      "0.8823529411764706 0.8823529411764706 0.8676470588235294\n"
     ]
    }
   ],
   "source": [
    "SVM_Class_2=SV_Model.predict(Xglasses)\n",
    "SVM_acc2 = metrics.accuracy_score(y_glasses, SVM_Class_2)\n",
    "\n",
    "XGB_Class_2=XGB_Model.predict(Xglasses)\n",
    "XGB_acc2 = metrics.accuracy_score(y_glasses, XGB_Class_2)\n",
    "\n",
    "RF_Class_2=RF_Model.predict(Xglasses)\n",
    "RF_acc2 = metrics.accuracy_score(y_glasses, RF_Class_2)\n",
    "\n",
    "print (SVM_acc2, XGB_acc2, RF_acc2)"
   ]
  },
  {
   "cell_type": "markdown",
   "id": "3bc18904-1c44-440a-957a-233f25e1d138",
   "metadata": {},
   "source": [
    "       SUNGLASSES"
   ]
  },
  {
   "cell_type": "code",
   "execution_count": 221,
   "id": "524cf0f6-0392-47b9-8b47-8e8613966d8b",
   "metadata": {},
   "outputs": [
    {
     "name": "stdout",
     "output_type": "stream",
     "text": [
      "0.8181818181818182 0.8181818181818182 0.7727272727272727\n"
     ]
    }
   ],
   "source": [
    "SVM_Class_3=SV_Model.predict(Xsunglasses)\n",
    "SVM_acc3 = metrics.accuracy_score(y_sunglasses, SVM_Class_3)\n",
    "\n",
    "XGB_Class_3=XGB_Model.predict(Xsunglasses)\n",
    "XGB_acc3 = metrics.accuracy_score(y_sunglasses, XGB_Class_3)\n",
    "\n",
    "RF_Class_3=RF_Model.predict(Xsunglasses)\n",
    "RF_acc3 = metrics.accuracy_score(y_sunglasses, RF_Class_3)\n",
    "\n",
    "print (SVM_acc3, XGB_acc3, RF_acc3)"
   ]
  },
  {
   "cell_type": "markdown",
   "id": "13551703-9432-4b13-8de0-117522c2e54e",
   "metadata": {},
   "source": [
    "       Male"
   ]
  },
  {
   "cell_type": "code",
   "execution_count": 222,
   "id": "a36b87bb-7b28-4fb9-931c-9cef9b9b1564",
   "metadata": {},
   "outputs": [
    {
     "name": "stdout",
     "output_type": "stream",
     "text": [
      "0.8796296296296297 0.8981481481481481 0.8796296296296297\n"
     ]
    }
   ],
   "source": [
    "SVM_Class_4=SV_Model.predict(Xmale)\n",
    "SVM_acc4 = metrics.accuracy_score(y_male, SVM_Class_4)\n",
    "\n",
    "XGB_Class_4=XGB_Model.predict(Xmale)\n",
    "XGB_acc4 = metrics.accuracy_score(y_male, XGB_Class_4)\n",
    "\n",
    "RF_Class_4=RF_Model.predict(Xmale)\n",
    "RF_acc4 = metrics.accuracy_score(y_male, RF_Class_4)\n",
    "\n",
    "print (SVM_acc4, XGB_acc4, RF_acc4)"
   ]
  },
  {
   "cell_type": "markdown",
   "id": "765b933b-0bb4-4b07-98bd-43d8c8d141a3",
   "metadata": {},
   "source": [
    "    Female"
   ]
  },
  {
   "cell_type": "code",
   "execution_count": 223,
   "id": "8b1de09c-e83c-49cb-b66a-d2c0aa1ed0c3",
   "metadata": {},
   "outputs": [
    {
     "name": "stdout",
     "output_type": "stream",
     "text": [
      "0.898989898989899 0.9494949494949495 0.9494949494949495\n"
     ]
    }
   ],
   "source": [
    "SVM_Class_5=SV_Model.predict(Xfemale)\n",
    "SVM_acc5 = metrics.accuracy_score(y_female, SVM_Class_5)\n",
    "\n",
    "XGB_Class_5=XGB_Model.predict(Xfemale)\n",
    "XGB_acc5 = metrics.accuracy_score(y_female, XGB_Class_5)\n",
    "\n",
    "RF_Class_5=RF_Model.predict(Xfemale)\n",
    "RF_acc5 = metrics.accuracy_score(y_female, RF_Class_5)\n",
    "\n",
    "print (SVM_acc5, XGB_acc5, RF_acc5)"
   ]
  },
  {
   "cell_type": "markdown",
   "id": "06be2dfc-c8bb-4a54-b044-6a37e3feb037",
   "metadata": {},
   "source": [
    "TESTING ON NAMDEB DATA"
   ]
  },
  {
   "cell_type": "code",
   "execution_count": 58,
   "id": "8567c322-5c3d-4ebd-a8b9-c20c56169934",
   "metadata": {},
   "outputs": [],
   "source": [
    "df_nm= pd.read_csv(\"NAMDEB_ccn.csv\")\n",
    "#print (df_nm)"
   ]
  },
  {
   "cell_type": "code",
   "execution_count": 59,
   "id": "3077ad1e-dba0-41ac-91ef-d2539d1a191a",
   "metadata": {},
   "outputs": [],
   "source": [
    "df_nm = df_nm.dropna()\n",
    "\n"
   ]
  },
  {
   "cell_type": "code",
   "execution_count": 60,
   "id": "7c198ce2-0515-417d-b07d-0944a6d3094c",
   "metadata": {},
   "outputs": [],
   "source": [
    "# nf = 100    #only consider videos with a certain number of faces to ensure meaningful results\n",
    "#df_nmm = df_nm[df_nm.FACIAL_FRAMES > ]  \n",
    "#print (df_nmm)\n",
    "\n",
    "df_nmm = df_nm"
   ]
  },
  {
   "cell_type": "code",
   "execution_count": 61,
   "id": "23d09baa-e934-4fcb-8141-4293ee9f1e9f",
   "metadata": {},
   "outputs": [],
   "source": [
    "X_nam = df_nmm[['PERCLOS', 'PMO']] "
   ]
  },
  {
   "cell_type": "code",
   "execution_count": 62,
   "id": "ee1b6949-c47f-470e-8c18-0f4c2b125cb5",
   "metadata": {},
   "outputs": [],
   "source": [
    "X_x = scaler.fit_transform(X_nam)"
   ]
  },
  {
   "cell_type": "code",
   "execution_count": 63,
   "id": "987beb1a-8178-4fe4-bd70-28ac2fa30ff6",
   "metadata": {},
   "outputs": [
    {
     "ename": "NotFittedError",
     "evalue": "This SVC instance is not fitted yet. Call 'fit' with appropriate arguments before using this estimator.",
     "output_type": "error",
     "traceback": [
      "\u001b[1;31m---------------------------------------------------------------------------\u001b[0m",
      "\u001b[1;31mNotFittedError\u001b[0m                            Traceback (most recent call last)",
      "Cell \u001b[1;32mIn[63], line 1\u001b[0m\n\u001b[1;32m----> 1\u001b[0m df_nmm[\u001b[38;5;124m'\u001b[39m\u001b[38;5;124mSVM_Class_Namdeb\u001b[39m\u001b[38;5;124m'\u001b[39m]\u001b[38;5;241m=\u001b[39m\u001b[43mSV_Model\u001b[49m\u001b[38;5;241;43m.\u001b[39;49m\u001b[43mpredict\u001b[49m\u001b[43m(\u001b[49m\u001b[43mX_x\u001b[49m\u001b[43m)\u001b[49m\n",
      "File \u001b[1;32m~\\AppData\\Local\\anaconda3\\lib\\site-packages\\sklearn\\svm\\_base.py:807\u001b[0m, in \u001b[0;36mBaseSVC.predict\u001b[1;34m(self, X)\u001b[0m\n\u001b[0;32m    790\u001b[0m \u001b[38;5;28;01mdef\u001b[39;00m \u001b[38;5;21mpredict\u001b[39m(\u001b[38;5;28mself\u001b[39m, X):\n\u001b[0;32m    791\u001b[0m     \u001b[38;5;124;03m\"\"\"Perform classification on samples in X.\u001b[39;00m\n\u001b[0;32m    792\u001b[0m \n\u001b[0;32m    793\u001b[0m \u001b[38;5;124;03m    For an one-class model, +1 or -1 is returned.\u001b[39;00m\n\u001b[1;32m   (...)\u001b[0m\n\u001b[0;32m    805\u001b[0m \u001b[38;5;124;03m        Class labels for samples in X.\u001b[39;00m\n\u001b[0;32m    806\u001b[0m \u001b[38;5;124;03m    \"\"\"\u001b[39;00m\n\u001b[1;32m--> 807\u001b[0m     \u001b[43mcheck_is_fitted\u001b[49m\u001b[43m(\u001b[49m\u001b[38;5;28;43mself\u001b[39;49m\u001b[43m)\u001b[49m\n\u001b[0;32m    808\u001b[0m     \u001b[38;5;28;01mif\u001b[39;00m \u001b[38;5;28mself\u001b[39m\u001b[38;5;241m.\u001b[39mbreak_ties \u001b[38;5;129;01mand\u001b[39;00m \u001b[38;5;28mself\u001b[39m\u001b[38;5;241m.\u001b[39mdecision_function_shape \u001b[38;5;241m==\u001b[39m \u001b[38;5;124m\"\u001b[39m\u001b[38;5;124movo\u001b[39m\u001b[38;5;124m\"\u001b[39m:\n\u001b[0;32m    809\u001b[0m         \u001b[38;5;28;01mraise\u001b[39;00m \u001b[38;5;167;01mValueError\u001b[39;00m(\n\u001b[0;32m    810\u001b[0m             \u001b[38;5;124m\"\u001b[39m\u001b[38;5;124mbreak_ties must be False when decision_function_shape is \u001b[39m\u001b[38;5;124m'\u001b[39m\u001b[38;5;124movo\u001b[39m\u001b[38;5;124m'\u001b[39m\u001b[38;5;124m\"\u001b[39m\n\u001b[0;32m    811\u001b[0m         )\n",
      "File \u001b[1;32m~\\AppData\\Local\\anaconda3\\lib\\site-packages\\sklearn\\utils\\validation.py:1390\u001b[0m, in \u001b[0;36mcheck_is_fitted\u001b[1;34m(estimator, attributes, msg, all_or_any)\u001b[0m\n\u001b[0;32m   1385\u001b[0m     fitted \u001b[38;5;241m=\u001b[39m [\n\u001b[0;32m   1386\u001b[0m         v \u001b[38;5;28;01mfor\u001b[39;00m v \u001b[38;5;129;01min\u001b[39;00m \u001b[38;5;28mvars\u001b[39m(estimator) \u001b[38;5;28;01mif\u001b[39;00m v\u001b[38;5;241m.\u001b[39mendswith(\u001b[38;5;124m\"\u001b[39m\u001b[38;5;124m_\u001b[39m\u001b[38;5;124m\"\u001b[39m) \u001b[38;5;129;01mand\u001b[39;00m \u001b[38;5;129;01mnot\u001b[39;00m v\u001b[38;5;241m.\u001b[39mstartswith(\u001b[38;5;124m\"\u001b[39m\u001b[38;5;124m__\u001b[39m\u001b[38;5;124m\"\u001b[39m)\n\u001b[0;32m   1387\u001b[0m     ]\n\u001b[0;32m   1389\u001b[0m \u001b[38;5;28;01mif\u001b[39;00m \u001b[38;5;129;01mnot\u001b[39;00m fitted:\n\u001b[1;32m-> 1390\u001b[0m     \u001b[38;5;28;01mraise\u001b[39;00m NotFittedError(msg \u001b[38;5;241m%\u001b[39m {\u001b[38;5;124m\"\u001b[39m\u001b[38;5;124mname\u001b[39m\u001b[38;5;124m\"\u001b[39m: \u001b[38;5;28mtype\u001b[39m(estimator)\u001b[38;5;241m.\u001b[39m\u001b[38;5;18m__name__\u001b[39m})\n",
      "\u001b[1;31mNotFittedError\u001b[0m: This SVC instance is not fitted yet. Call 'fit' with appropriate arguments before using this estimator."
     ]
    }
   ],
   "source": [
    "df_nmm['SVM_Class_Namdeb']=SV_Model.predict(X_x)"
   ]
  },
  {
   "cell_type": "code",
   "execution_count": 66,
   "id": "e0d155da-ecac-41a0-bc0b-a816e91b6096",
   "metadata": {},
   "outputs": [
    {
     "ename": "NotFittedError",
     "evalue": "need to call fit or load_model beforehand",
     "output_type": "error",
     "traceback": [
      "\u001b[1;31m---------------------------------------------------------------------------\u001b[0m",
      "\u001b[1;31mNotFittedError\u001b[0m                            Traceback (most recent call last)",
      "Cell \u001b[1;32mIn[66], line 1\u001b[0m\n\u001b[1;32m----> 1\u001b[0m df_nmm[\u001b[38;5;124m'\u001b[39m\u001b[38;5;124mXGB_Class_Namdeb\u001b[39m\u001b[38;5;124m'\u001b[39m]\u001b[38;5;241m=\u001b[39m\u001b[43mXGB_Model\u001b[49m\u001b[38;5;241;43m.\u001b[39;49m\u001b[43mpredict\u001b[49m\u001b[43m(\u001b[49m\u001b[43mX_x\u001b[49m\u001b[43m)\u001b[49m\n",
      "File \u001b[1;32m~\\AppData\\Local\\anaconda3\\lib\\site-packages\\xgboost\\sklearn.py:1549\u001b[0m, in \u001b[0;36mXGBClassifier.predict\u001b[1;34m(self, X, output_margin, validate_features, base_margin, iteration_range)\u001b[0m\n\u001b[0;32m   1540\u001b[0m \u001b[38;5;28;01mdef\u001b[39;00m \u001b[38;5;21mpredict\u001b[39m(\n\u001b[0;32m   1541\u001b[0m     \u001b[38;5;28mself\u001b[39m,\n\u001b[0;32m   1542\u001b[0m     X: ArrayLike,\n\u001b[1;32m   (...)\u001b[0m\n\u001b[0;32m   1546\u001b[0m     iteration_range: Optional[Tuple[\u001b[38;5;28mint\u001b[39m, \u001b[38;5;28mint\u001b[39m]] \u001b[38;5;241m=\u001b[39m \u001b[38;5;28;01mNone\u001b[39;00m,\n\u001b[0;32m   1547\u001b[0m ) \u001b[38;5;241m-\u001b[39m\u001b[38;5;241m>\u001b[39m ArrayLike:\n\u001b[0;32m   1548\u001b[0m     \u001b[38;5;28;01mwith\u001b[39;00m config_context(verbosity\u001b[38;5;241m=\u001b[39m\u001b[38;5;28mself\u001b[39m\u001b[38;5;241m.\u001b[39mverbosity):\n\u001b[1;32m-> 1549\u001b[0m         class_probs \u001b[38;5;241m=\u001b[39m \u001b[38;5;28;43msuper\u001b[39;49m\u001b[43m(\u001b[49m\u001b[43m)\u001b[49m\u001b[38;5;241;43m.\u001b[39;49m\u001b[43mpredict\u001b[49m\u001b[43m(\u001b[49m\n\u001b[0;32m   1550\u001b[0m \u001b[43m            \u001b[49m\u001b[43mX\u001b[49m\u001b[38;5;241;43m=\u001b[39;49m\u001b[43mX\u001b[49m\u001b[43m,\u001b[49m\n\u001b[0;32m   1551\u001b[0m \u001b[43m            \u001b[49m\u001b[43moutput_margin\u001b[49m\u001b[38;5;241;43m=\u001b[39;49m\u001b[43moutput_margin\u001b[49m\u001b[43m,\u001b[49m\n\u001b[0;32m   1552\u001b[0m \u001b[43m            \u001b[49m\u001b[43mvalidate_features\u001b[49m\u001b[38;5;241;43m=\u001b[39;49m\u001b[43mvalidate_features\u001b[49m\u001b[43m,\u001b[49m\n\u001b[0;32m   1553\u001b[0m \u001b[43m            \u001b[49m\u001b[43mbase_margin\u001b[49m\u001b[38;5;241;43m=\u001b[39;49m\u001b[43mbase_margin\u001b[49m\u001b[43m,\u001b[49m\n\u001b[0;32m   1554\u001b[0m \u001b[43m            \u001b[49m\u001b[43miteration_range\u001b[49m\u001b[38;5;241;43m=\u001b[39;49m\u001b[43miteration_range\u001b[49m\u001b[43m,\u001b[49m\n\u001b[0;32m   1555\u001b[0m \u001b[43m        \u001b[49m\u001b[43m)\u001b[49m\n\u001b[0;32m   1556\u001b[0m         \u001b[38;5;28;01mif\u001b[39;00m output_margin:\n\u001b[0;32m   1557\u001b[0m             \u001b[38;5;66;03m# If output_margin is active, simply return the scores\u001b[39;00m\n\u001b[0;32m   1558\u001b[0m             \u001b[38;5;28;01mreturn\u001b[39;00m class_probs\n",
      "File \u001b[1;32m~\\AppData\\Local\\anaconda3\\lib\\site-packages\\xgboost\\sklearn.py:1164\u001b[0m, in \u001b[0;36mXGBModel.predict\u001b[1;34m(self, X, output_margin, validate_features, base_margin, iteration_range)\u001b[0m\n\u001b[0;32m   1162\u001b[0m \u001b[38;5;28;01mif\u001b[39;00m \u001b[38;5;28mself\u001b[39m\u001b[38;5;241m.\u001b[39m_can_use_inplace_predict():\n\u001b[0;32m   1163\u001b[0m     \u001b[38;5;28;01mtry\u001b[39;00m:\n\u001b[1;32m-> 1164\u001b[0m         predts \u001b[38;5;241m=\u001b[39m \u001b[38;5;28;43mself\u001b[39;49m\u001b[38;5;241;43m.\u001b[39;49m\u001b[43mget_booster\u001b[49m\u001b[43m(\u001b[49m\u001b[43m)\u001b[49m\u001b[38;5;241m.\u001b[39minplace_predict(\n\u001b[0;32m   1165\u001b[0m             data\u001b[38;5;241m=\u001b[39mX,\n\u001b[0;32m   1166\u001b[0m             iteration_range\u001b[38;5;241m=\u001b[39miteration_range,\n\u001b[0;32m   1167\u001b[0m             predict_type\u001b[38;5;241m=\u001b[39m\u001b[38;5;124m\"\u001b[39m\u001b[38;5;124mmargin\u001b[39m\u001b[38;5;124m\"\u001b[39m \u001b[38;5;28;01mif\u001b[39;00m output_margin \u001b[38;5;28;01melse\u001b[39;00m \u001b[38;5;124m\"\u001b[39m\u001b[38;5;124mvalue\u001b[39m\u001b[38;5;124m\"\u001b[39m,\n\u001b[0;32m   1168\u001b[0m             missing\u001b[38;5;241m=\u001b[39m\u001b[38;5;28mself\u001b[39m\u001b[38;5;241m.\u001b[39mmissing,\n\u001b[0;32m   1169\u001b[0m             base_margin\u001b[38;5;241m=\u001b[39mbase_margin,\n\u001b[0;32m   1170\u001b[0m             validate_features\u001b[38;5;241m=\u001b[39mvalidate_features,\n\u001b[0;32m   1171\u001b[0m         )\n\u001b[0;32m   1172\u001b[0m         \u001b[38;5;28;01mif\u001b[39;00m _is_cupy_array(predts):\n\u001b[0;32m   1173\u001b[0m             \u001b[38;5;28;01mimport\u001b[39;00m \u001b[38;5;21;01mcupy\u001b[39;00m  \u001b[38;5;66;03m# pylint: disable=import-error\u001b[39;00m\n",
      "File \u001b[1;32m~\\AppData\\Local\\anaconda3\\lib\\site-packages\\xgboost\\sklearn.py:738\u001b[0m, in \u001b[0;36mXGBModel.get_booster\u001b[1;34m(self)\u001b[0m\n\u001b[0;32m    735\u001b[0m \u001b[38;5;28;01mif\u001b[39;00m \u001b[38;5;129;01mnot\u001b[39;00m \u001b[38;5;28mself\u001b[39m\u001b[38;5;241m.\u001b[39m__sklearn_is_fitted__():\n\u001b[0;32m    736\u001b[0m     \u001b[38;5;28;01mfrom\u001b[39;00m \u001b[38;5;21;01msklearn\u001b[39;00m\u001b[38;5;21;01m.\u001b[39;00m\u001b[38;5;21;01mexceptions\u001b[39;00m \u001b[38;5;28;01mimport\u001b[39;00m NotFittedError\n\u001b[1;32m--> 738\u001b[0m     \u001b[38;5;28;01mraise\u001b[39;00m NotFittedError(\u001b[38;5;124m\"\u001b[39m\u001b[38;5;124mneed to call fit or load_model beforehand\u001b[39m\u001b[38;5;124m\"\u001b[39m)\n\u001b[0;32m    739\u001b[0m \u001b[38;5;28;01mreturn\u001b[39;00m \u001b[38;5;28mself\u001b[39m\u001b[38;5;241m.\u001b[39m_Booster\n",
      "\u001b[1;31mNotFittedError\u001b[0m: need to call fit or load_model beforehand"
     ]
    }
   ],
   "source": [
    "df_nmm['XGB_Class_Namdeb']=XGB_Model.predict(X_x)"
   ]
  },
  {
   "cell_type": "code",
   "execution_count": 69,
   "id": "6af5b199-6257-41cf-8a19-f27e247852bd",
   "metadata": {},
   "outputs": [],
   "source": [
    "RF_Model=RandomForestClassifier(criterion = 'gini', max_depth = 6, max_features = 'auto', n_estimators = 100, random_state=42)\n",
    "RF_Model.fit(x,y)\n",
    "df_nmm['RF_Class_Namdeb']=RF_Model.predict(X_x)"
   ]
  },
  {
   "cell_type": "code",
   "execution_count": null,
   "id": "4bb0db9b-c8b5-4d11-8d8b-07dc9937fb07",
   "metadata": {},
   "outputs": [],
   "source": []
  },
  {
   "cell_type": "code",
   "execution_count": 71,
   "id": "33d9d1f7-c88e-4849-8605-e5ec54eca428",
   "metadata": {},
   "outputs": [],
   "source": [
    "test_results = df_nmm[[ 'EventID', 'Facial_Frames', 'PERCLOS', 'PMO', 'RF_Class_Namdeb']]"
   ]
  },
  {
   "cell_type": "code",
   "execution_count": 72,
   "id": "0f8a8225-f05f-455f-afd0-953bfaae53ce",
   "metadata": {},
   "outputs": [
    {
     "data": {
      "text/html": [
       "<div>\n",
       "<style scoped>\n",
       "    .dataframe tbody tr th:only-of-type {\n",
       "        vertical-align: middle;\n",
       "    }\n",
       "\n",
       "    .dataframe tbody tr th {\n",
       "        vertical-align: top;\n",
       "    }\n",
       "\n",
       "    .dataframe thead th {\n",
       "        text-align: right;\n",
       "    }\n",
       "</style>\n",
       "<table border=\"1\" class=\"dataframe\">\n",
       "  <thead>\n",
       "    <tr style=\"text-align: right;\">\n",
       "      <th></th>\n",
       "      <th>EventID</th>\n",
       "      <th>Facial_Frames</th>\n",
       "      <th>PERCLOS</th>\n",
       "      <th>PMO</th>\n",
       "      <th>RF_Class_Namdeb</th>\n",
       "    </tr>\n",
       "  </thead>\n",
       "  <tbody>\n",
       "    <tr>\n",
       "      <th>0</th>\n",
       "      <td>EXRZ09285</td>\n",
       "      <td>119.0</td>\n",
       "      <td>1.680531</td>\n",
       "      <td>0.000000</td>\n",
       "      <td>0</td>\n",
       "    </tr>\n",
       "    <tr>\n",
       "      <th>1</th>\n",
       "      <td>EXRZ13746</td>\n",
       "      <td>112.0</td>\n",
       "      <td>13.391661</td>\n",
       "      <td>9.820552</td>\n",
       "      <td>1</td>\n",
       "    </tr>\n",
       "    <tr>\n",
       "      <th>2</th>\n",
       "      <td>EXRZ54652</td>\n",
       "      <td>10.0</td>\n",
       "      <td>19.980020</td>\n",
       "      <td>0.000000</td>\n",
       "      <td>1</td>\n",
       "    </tr>\n",
       "    <tr>\n",
       "      <th>3</th>\n",
       "      <td>EXRZ54818</td>\n",
       "      <td>119.0</td>\n",
       "      <td>9.242921</td>\n",
       "      <td>0.000000</td>\n",
       "      <td>1</td>\n",
       "    </tr>\n",
       "    <tr>\n",
       "      <th>4</th>\n",
       "      <td>EXRZ92631</td>\n",
       "      <td>1.0</td>\n",
       "      <td>0.000000</td>\n",
       "      <td>0.000000</td>\n",
       "      <td>0</td>\n",
       "    </tr>\n",
       "    <tr>\n",
       "      <th>5</th>\n",
       "      <td>EXSB41113</td>\n",
       "      <td>100.0</td>\n",
       "      <td>0.000000</td>\n",
       "      <td>0.000000</td>\n",
       "      <td>0</td>\n",
       "    </tr>\n",
       "    <tr>\n",
       "      <th>6</th>\n",
       "      <td>EXSC75213</td>\n",
       "      <td>119.0</td>\n",
       "      <td>10.923452</td>\n",
       "      <td>0.000000</td>\n",
       "      <td>1</td>\n",
       "    </tr>\n",
       "    <tr>\n",
       "      <th>7</th>\n",
       "      <td>EXSG81843</td>\n",
       "      <td>114.0</td>\n",
       "      <td>6.139812</td>\n",
       "      <td>0.000000</td>\n",
       "      <td>0</td>\n",
       "    </tr>\n",
       "    <tr>\n",
       "      <th>8</th>\n",
       "      <td>EXTQ46301</td>\n",
       "      <td>106.0</td>\n",
       "      <td>1.886614</td>\n",
       "      <td>0.000000</td>\n",
       "      <td>0</td>\n",
       "    </tr>\n",
       "    <tr>\n",
       "      <th>9</th>\n",
       "      <td>EXUK26814</td>\n",
       "      <td>80.0</td>\n",
       "      <td>11.248594</td>\n",
       "      <td>0.000000</td>\n",
       "      <td>1</td>\n",
       "    </tr>\n",
       "    <tr>\n",
       "      <th>10</th>\n",
       "      <td>EXUM30830</td>\n",
       "      <td>105.0</td>\n",
       "      <td>9.522903</td>\n",
       "      <td>0.000000</td>\n",
       "      <td>1</td>\n",
       "    </tr>\n",
       "    <tr>\n",
       "      <th>11</th>\n",
       "      <td>EXUN26213</td>\n",
       "      <td>100.0</td>\n",
       "      <td>7.999200</td>\n",
       "      <td>0.000000</td>\n",
       "      <td>0</td>\n",
       "    </tr>\n",
       "    <tr>\n",
       "      <th>12</th>\n",
       "      <td>EXUN97590</td>\n",
       "      <td>65.0</td>\n",
       "      <td>0.000000</td>\n",
       "      <td>0.000000</td>\n",
       "      <td>0</td>\n",
       "    </tr>\n",
       "    <tr>\n",
       "      <th>13</th>\n",
       "      <td>EXUP08179</td>\n",
       "      <td>87.0</td>\n",
       "      <td>1.149293</td>\n",
       "      <td>0.000000</td>\n",
       "      <td>0</td>\n",
       "    </tr>\n",
       "    <tr>\n",
       "      <th>14</th>\n",
       "      <td>EXUP28685</td>\n",
       "      <td>115.0</td>\n",
       "      <td>1.738979</td>\n",
       "      <td>0.000000</td>\n",
       "      <td>0</td>\n",
       "    </tr>\n",
       "    <tr>\n",
       "      <th>15</th>\n",
       "      <td>EXUR74791</td>\n",
       "      <td>118.0</td>\n",
       "      <td>0.000000</td>\n",
       "      <td>0.000000</td>\n",
       "      <td>0</td>\n",
       "    </tr>\n",
       "    <tr>\n",
       "      <th>16</th>\n",
       "      <td>EXUX34328</td>\n",
       "      <td>118.0</td>\n",
       "      <td>28.811118</td>\n",
       "      <td>0.000000</td>\n",
       "      <td>1</td>\n",
       "    </tr>\n",
       "    <tr>\n",
       "      <th>17</th>\n",
       "      <td>EXUX36593</td>\n",
       "      <td>119.0</td>\n",
       "      <td>3.361062</td>\n",
       "      <td>0.000000</td>\n",
       "      <td>0</td>\n",
       "    </tr>\n",
       "    <tr>\n",
       "      <th>18</th>\n",
       "      <td>EXUZ62630</td>\n",
       "      <td>101.0</td>\n",
       "      <td>4.950005</td>\n",
       "      <td>0.990001</td>\n",
       "      <td>1</td>\n",
       "    </tr>\n",
       "    <tr>\n",
       "      <th>19</th>\n",
       "      <td>EXUZ85282</td>\n",
       "      <td>45.0</td>\n",
       "      <td>13.330371</td>\n",
       "      <td>0.000000</td>\n",
       "      <td>1</td>\n",
       "    </tr>\n",
       "    <tr>\n",
       "      <th>20</th>\n",
       "      <td>EXUZ89917</td>\n",
       "      <td>35.0</td>\n",
       "      <td>0.000000</td>\n",
       "      <td>0.000000</td>\n",
       "      <td>0</td>\n",
       "    </tr>\n",
       "    <tr>\n",
       "      <th>21</th>\n",
       "      <td>EXWA24391</td>\n",
       "      <td>105.0</td>\n",
       "      <td>0.000000</td>\n",
       "      <td>0.000000</td>\n",
       "      <td>0</td>\n",
       "    </tr>\n",
       "    <tr>\n",
       "      <th>22</th>\n",
       "      <td>EXWA32177</td>\n",
       "      <td>0.0</td>\n",
       "      <td>0.000000</td>\n",
       "      <td>0.000000</td>\n",
       "      <td>0</td>\n",
       "    </tr>\n",
       "    <tr>\n",
       "      <th>23</th>\n",
       "      <td>EXWA61927</td>\n",
       "      <td>58.0</td>\n",
       "      <td>1.723841</td>\n",
       "      <td>0.000000</td>\n",
       "      <td>0</td>\n",
       "    </tr>\n",
       "    <tr>\n",
       "      <th>24</th>\n",
       "      <td>EXWA70681</td>\n",
       "      <td>85.0</td>\n",
       "      <td>1.176332</td>\n",
       "      <td>0.000000</td>\n",
       "      <td>0</td>\n",
       "    </tr>\n",
       "    <tr>\n",
       "      <th>25</th>\n",
       "      <td>EXWB75366</td>\n",
       "      <td>79.0</td>\n",
       "      <td>16.453613</td>\n",
       "      <td>0.000000</td>\n",
       "      <td>1</td>\n",
       "    </tr>\n",
       "    <tr>\n",
       "      <th>26</th>\n",
       "      <td>EXWB96515</td>\n",
       "      <td>119.0</td>\n",
       "      <td>0.840266</td>\n",
       "      <td>2.520797</td>\n",
       "      <td>1</td>\n",
       "    </tr>\n",
       "    <tr>\n",
       "      <th>27</th>\n",
       "      <td>EXWF94283</td>\n",
       "      <td>56.0</td>\n",
       "      <td>3.570791</td>\n",
       "      <td>0.000000</td>\n",
       "      <td>0</td>\n",
       "    </tr>\n",
       "    <tr>\n",
       "      <th>28</th>\n",
       "      <td>EXWH52392</td>\n",
       "      <td>0.0</td>\n",
       "      <td>0.000000</td>\n",
       "      <td>0.000000</td>\n",
       "      <td>0</td>\n",
       "    </tr>\n",
       "    <tr>\n",
       "      <th>29</th>\n",
       "      <td>EXWM00329</td>\n",
       "      <td>47.0</td>\n",
       "      <td>2.127207</td>\n",
       "      <td>0.000000</td>\n",
       "      <td>0</td>\n",
       "    </tr>\n",
       "    <tr>\n",
       "      <th>30</th>\n",
       "      <td>EXWQ67829</td>\n",
       "      <td>119.0</td>\n",
       "      <td>5.041593</td>\n",
       "      <td>0.000000</td>\n",
       "      <td>0</td>\n",
       "    </tr>\n",
       "    <tr>\n",
       "      <th>31</th>\n",
       "      <td>EXXP29068</td>\n",
       "      <td>119.0</td>\n",
       "      <td>0.000000</td>\n",
       "      <td>0.000000</td>\n",
       "      <td>0</td>\n",
       "    </tr>\n",
       "    <tr>\n",
       "      <th>32</th>\n",
       "      <td>EXXS60186</td>\n",
       "      <td>119.0</td>\n",
       "      <td>3.361062</td>\n",
       "      <td>0.000000</td>\n",
       "      <td>0</td>\n",
       "    </tr>\n",
       "    <tr>\n",
       "      <th>33</th>\n",
       "      <td>EXXS68261</td>\n",
       "      <td>119.0</td>\n",
       "      <td>5.881859</td>\n",
       "      <td>0.000000</td>\n",
       "      <td>0</td>\n",
       "    </tr>\n",
       "    <tr>\n",
       "      <th>34</th>\n",
       "      <td>EXYA16467</td>\n",
       "      <td>110.0</td>\n",
       "      <td>8.181074</td>\n",
       "      <td>0.000000</td>\n",
       "      <td>0</td>\n",
       "    </tr>\n",
       "    <tr>\n",
       "      <th>35</th>\n",
       "      <td>EXYD91211</td>\n",
       "      <td>109.0</td>\n",
       "      <td>2.752041</td>\n",
       "      <td>0.000000</td>\n",
       "      <td>0</td>\n",
       "    </tr>\n",
       "    <tr>\n",
       "      <th>36</th>\n",
       "      <td>EXYP83305</td>\n",
       "      <td>111.0</td>\n",
       "      <td>7.206558</td>\n",
       "      <td>0.000000</td>\n",
       "      <td>0</td>\n",
       "    </tr>\n",
       "    <tr>\n",
       "      <th>37</th>\n",
       "      <td>EXYS31342</td>\n",
       "      <td>119.0</td>\n",
       "      <td>0.000000</td>\n",
       "      <td>0.000000</td>\n",
       "      <td>0</td>\n",
       "    </tr>\n",
       "    <tr>\n",
       "      <th>38</th>\n",
       "      <td>EXYS56962</td>\n",
       "      <td>119.0</td>\n",
       "      <td>5.881859</td>\n",
       "      <td>0.000000</td>\n",
       "      <td>0</td>\n",
       "    </tr>\n",
       "    <tr>\n",
       "      <th>39</th>\n",
       "      <td>EXYS57471</td>\n",
       "      <td>113.0</td>\n",
       "      <td>11.503407</td>\n",
       "      <td>0.000000</td>\n",
       "      <td>1</td>\n",
       "    </tr>\n",
       "    <tr>\n",
       "      <th>40</th>\n",
       "      <td>EXYS58008</td>\n",
       "      <td>114.0</td>\n",
       "      <td>8.771160</td>\n",
       "      <td>0.000000</td>\n",
       "      <td>0</td>\n",
       "    </tr>\n",
       "    <tr>\n",
       "      <th>41</th>\n",
       "      <td>EXZZ46755</td>\n",
       "      <td>116.0</td>\n",
       "      <td>18.963882</td>\n",
       "      <td>2.585984</td>\n",
       "      <td>1</td>\n",
       "    </tr>\n",
       "    <tr>\n",
       "      <th>42</th>\n",
       "      <td>EYAH79405</td>\n",
       "      <td>20.0</td>\n",
       "      <td>19.990005</td>\n",
       "      <td>0.000000</td>\n",
       "      <td>1</td>\n",
       "    </tr>\n",
       "    <tr>\n",
       "      <th>43</th>\n",
       "      <td>EYAX94344</td>\n",
       "      <td>39.0</td>\n",
       "      <td>5.126891</td>\n",
       "      <td>0.000000</td>\n",
       "      <td>0</td>\n",
       "    </tr>\n",
       "    <tr>\n",
       "      <th>44</th>\n",
       "      <td>EYAZ15427</td>\n",
       "      <td>119.0</td>\n",
       "      <td>2.520797</td>\n",
       "      <td>0.000000</td>\n",
       "      <td>0</td>\n",
       "    </tr>\n",
       "    <tr>\n",
       "      <th>45</th>\n",
       "      <td>EYBA72094</td>\n",
       "      <td>51.0</td>\n",
       "      <td>7.841600</td>\n",
       "      <td>0.000000</td>\n",
       "      <td>0</td>\n",
       "    </tr>\n",
       "  </tbody>\n",
       "</table>\n",
       "</div>"
      ],
      "text/plain": [
       "      EventID  Facial_Frames    PERCLOS       PMO  RF_Class_Namdeb\n",
       "0   EXRZ09285          119.0   1.680531  0.000000                0\n",
       "1   EXRZ13746          112.0  13.391661  9.820552                1\n",
       "2   EXRZ54652           10.0  19.980020  0.000000                1\n",
       "3   EXRZ54818          119.0   9.242921  0.000000                1\n",
       "4   EXRZ92631            1.0   0.000000  0.000000                0\n",
       "5   EXSB41113          100.0   0.000000  0.000000                0\n",
       "6   EXSC75213          119.0  10.923452  0.000000                1\n",
       "7   EXSG81843          114.0   6.139812  0.000000                0\n",
       "8   EXTQ46301          106.0   1.886614  0.000000                0\n",
       "9   EXUK26814           80.0  11.248594  0.000000                1\n",
       "10  EXUM30830          105.0   9.522903  0.000000                1\n",
       "11  EXUN26213          100.0   7.999200  0.000000                0\n",
       "12  EXUN97590           65.0   0.000000  0.000000                0\n",
       "13  EXUP08179           87.0   1.149293  0.000000                0\n",
       "14  EXUP28685          115.0   1.738979  0.000000                0\n",
       "15  EXUR74791          118.0   0.000000  0.000000                0\n",
       "16  EXUX34328          118.0  28.811118  0.000000                1\n",
       "17  EXUX36593          119.0   3.361062  0.000000                0\n",
       "18  EXUZ62630          101.0   4.950005  0.990001                1\n",
       "19  EXUZ85282           45.0  13.330371  0.000000                1\n",
       "20  EXUZ89917           35.0   0.000000  0.000000                0\n",
       "21  EXWA24391          105.0   0.000000  0.000000                0\n",
       "22  EXWA32177            0.0   0.000000  0.000000                0\n",
       "23  EXWA61927           58.0   1.723841  0.000000                0\n",
       "24  EXWA70681           85.0   1.176332  0.000000                0\n",
       "25  EXWB75366           79.0  16.453613  0.000000                1\n",
       "26  EXWB96515          119.0   0.840266  2.520797                1\n",
       "27  EXWF94283           56.0   3.570791  0.000000                0\n",
       "28  EXWH52392            0.0   0.000000  0.000000                0\n",
       "29  EXWM00329           47.0   2.127207  0.000000                0\n",
       "30  EXWQ67829          119.0   5.041593  0.000000                0\n",
       "31  EXXP29068          119.0   0.000000  0.000000                0\n",
       "32  EXXS60186          119.0   3.361062  0.000000                0\n",
       "33  EXXS68261          119.0   5.881859  0.000000                0\n",
       "34  EXYA16467          110.0   8.181074  0.000000                0\n",
       "35  EXYD91211          109.0   2.752041  0.000000                0\n",
       "36  EXYP83305          111.0   7.206558  0.000000                0\n",
       "37  EXYS31342          119.0   0.000000  0.000000                0\n",
       "38  EXYS56962          119.0   5.881859  0.000000                0\n",
       "39  EXYS57471          113.0  11.503407  0.000000                1\n",
       "40  EXYS58008          114.0   8.771160  0.000000                0\n",
       "41  EXZZ46755          116.0  18.963882  2.585984                1\n",
       "42  EYAH79405           20.0  19.990005  0.000000                1\n",
       "43  EYAX94344           39.0   5.126891  0.000000                0\n",
       "44  EYAZ15427          119.0   2.520797  0.000000                0\n",
       "45  EYBA72094           51.0   7.841600  0.000000                0"
      ]
     },
     "execution_count": 72,
     "metadata": {},
     "output_type": "execute_result"
    }
   ],
   "source": [
    "test_results"
   ]
  },
  {
   "cell_type": "code",
   "execution_count": 507,
   "id": "1d0c90f1-2b1f-4bb7-87d0-3e6cf73a90e5",
   "metadata": {},
   "outputs": [
    {
     "data": {
      "text/html": [
       "<div>\n",
       "<style scoped>\n",
       "    .dataframe tbody tr th:only-of-type {\n",
       "        vertical-align: middle;\n",
       "    }\n",
       "\n",
       "    .dataframe tbody tr th {\n",
       "        vertical-align: top;\n",
       "    }\n",
       "\n",
       "    .dataframe thead th {\n",
       "        text-align: right;\n",
       "    }\n",
       "</style>\n",
       "<table border=\"1\" class=\"dataframe\">\n",
       "  <thead>\n",
       "    <tr style=\"text-align: right;\">\n",
       "      <th></th>\n",
       "      <th>PERCLOS</th>\n",
       "      <th>MOR_MAR</th>\n",
       "      <th>MOR_lip_distance</th>\n",
       "      <th>Thresholding_Class_Namdeb</th>\n",
       "      <th>Stacked_Class_Namdeb</th>\n",
       "      <th>SVM_Class_Namdeb</th>\n",
       "      <th>LR_Class_Namdeb</th>\n",
       "      <th>LinearSVC_Class_Namdeb</th>\n",
       "    </tr>\n",
       "  </thead>\n",
       "  <tbody>\n",
       "    <tr>\n",
       "      <th>count</th>\n",
       "      <td>37.000000</td>\n",
       "      <td>37.000000</td>\n",
       "      <td>37.0</td>\n",
       "      <td>37.000000</td>\n",
       "      <td>37.000000</td>\n",
       "      <td>37.000000</td>\n",
       "      <td>37.000000</td>\n",
       "      <td>37.000000</td>\n",
       "    </tr>\n",
       "    <tr>\n",
       "      <th>mean</th>\n",
       "      <td>27.186751</td>\n",
       "      <td>7.081592</td>\n",
       "      <td>0.0</td>\n",
       "      <td>0.594595</td>\n",
       "      <td>0.621622</td>\n",
       "      <td>0.216216</td>\n",
       "      <td>0.378378</td>\n",
       "      <td>0.324324</td>\n",
       "    </tr>\n",
       "    <tr>\n",
       "      <th>std</th>\n",
       "      <td>27.365602</td>\n",
       "      <td>17.802865</td>\n",
       "      <td>0.0</td>\n",
       "      <td>0.497743</td>\n",
       "      <td>0.491672</td>\n",
       "      <td>0.417342</td>\n",
       "      <td>0.491672</td>\n",
       "      <td>0.474579</td>\n",
       "    </tr>\n",
       "    <tr>\n",
       "      <th>min</th>\n",
       "      <td>0.000000</td>\n",
       "      <td>0.000000</td>\n",
       "      <td>0.0</td>\n",
       "      <td>0.000000</td>\n",
       "      <td>0.000000</td>\n",
       "      <td>0.000000</td>\n",
       "      <td>0.000000</td>\n",
       "      <td>0.000000</td>\n",
       "    </tr>\n",
       "    <tr>\n",
       "      <th>25%</th>\n",
       "      <td>8.105917</td>\n",
       "      <td>0.000000</td>\n",
       "      <td>0.0</td>\n",
       "      <td>0.000000</td>\n",
       "      <td>0.000000</td>\n",
       "      <td>0.000000</td>\n",
       "      <td>0.000000</td>\n",
       "      <td>0.000000</td>\n",
       "    </tr>\n",
       "    <tr>\n",
       "      <th>50%</th>\n",
       "      <td>20.449898</td>\n",
       "      <td>0.000000</td>\n",
       "      <td>0.0</td>\n",
       "      <td>1.000000</td>\n",
       "      <td>1.000000</td>\n",
       "      <td>0.000000</td>\n",
       "      <td>0.000000</td>\n",
       "      <td>0.000000</td>\n",
       "    </tr>\n",
       "    <tr>\n",
       "      <th>75%</th>\n",
       "      <td>31.803726</td>\n",
       "      <td>0.000000</td>\n",
       "      <td>0.0</td>\n",
       "      <td>1.000000</td>\n",
       "      <td>1.000000</td>\n",
       "      <td>0.000000</td>\n",
       "      <td>1.000000</td>\n",
       "      <td>1.000000</td>\n",
       "    </tr>\n",
       "    <tr>\n",
       "      <th>max</th>\n",
       "      <td>99.502488</td>\n",
       "      <td>67.596113</td>\n",
       "      <td>0.0</td>\n",
       "      <td>1.000000</td>\n",
       "      <td>1.000000</td>\n",
       "      <td>1.000000</td>\n",
       "      <td>1.000000</td>\n",
       "      <td>1.000000</td>\n",
       "    </tr>\n",
       "  </tbody>\n",
       "</table>\n",
       "</div>"
      ],
      "text/plain": [
       "         PERCLOS    MOR_MAR  MOR_lip_distance  Thresholding_Class_Namdeb  \\\n",
       "count  37.000000  37.000000              37.0                  37.000000   \n",
       "mean   27.186751   7.081592               0.0                   0.594595   \n",
       "std    27.365602  17.802865               0.0                   0.497743   \n",
       "min     0.000000   0.000000               0.0                   0.000000   \n",
       "25%     8.105917   0.000000               0.0                   0.000000   \n",
       "50%    20.449898   0.000000               0.0                   1.000000   \n",
       "75%    31.803726   0.000000               0.0                   1.000000   \n",
       "max    99.502488  67.596113               0.0                   1.000000   \n",
       "\n",
       "       Stacked_Class_Namdeb  SVM_Class_Namdeb  LR_Class_Namdeb  \\\n",
       "count             37.000000         37.000000        37.000000   \n",
       "mean               0.621622          0.216216         0.378378   \n",
       "std                0.491672          0.417342         0.491672   \n",
       "min                0.000000          0.000000         0.000000   \n",
       "25%                0.000000          0.000000         0.000000   \n",
       "50%                1.000000          0.000000         0.000000   \n",
       "75%                1.000000          0.000000         1.000000   \n",
       "max                1.000000          1.000000         1.000000   \n",
       "\n",
       "       LinearSVC_Class_Namdeb  \n",
       "count               37.000000  \n",
       "mean                 0.324324  \n",
       "std                  0.474579  \n",
       "min                  0.000000  \n",
       "25%                  0.000000  \n",
       "50%                  0.000000  \n",
       "75%                  1.000000  \n",
       "max                  1.000000  "
      ]
     },
     "execution_count": 507,
     "metadata": {},
     "output_type": "execute_result"
    }
   ],
   "source": [
    "test_results.describe()"
   ]
  },
  {
   "cell_type": "code",
   "execution_count": 455,
   "id": "63b181ba-1688-4522-b193-7d206be682c7",
   "metadata": {},
   "outputs": [],
   "source": [
    "test_results.to_csv('NAMDEB.csv_test',index=False)"
   ]
  },
  {
   "cell_type": "markdown",
   "id": "2c9be41c-7ded-4d48-a73c-7b54f2dc05fa",
   "metadata": {},
   "source": [
    "CONFUSION MATRIX"
   ]
  },
  {
   "cell_type": "code",
   "execution_count": null,
   "id": "c3ec816e-b647-4084-8e41-dd8444f94ee4",
   "metadata": {},
   "outputs": [],
   "source": [
    "SVM_Class=SML_Model.predict(X)\n",
    "accuracy = metrics.accuracy_score(y_, SVM_Class)\n",
    "\n",
    "recall_sensitivity = metrics.recall_score(y_, SVM_Class, pos_label=1)\n",
    "\n",
    "recall_specificity = metrics.recall_score(y_, SVM_Class, pos_label=0)\n",
    "\n",
    "f1_positive = metrics.f1_score(y_, SVM_Class, pos_label=1)\n",
    "\n",
    "print (accuracy, recall_sensitivity, recall_specificity, f1_positive)"
   ]
  },
  {
   "cell_type": "code",
   "execution_count": null,
   "id": "24179537-950f-479c-ab02-7283d1a36af4",
   "metadata": {},
   "outputs": [],
   "source": [
    "conf_matrix1=confusion_matrix(y_, SVM_Class) \n",
    "\n",
    "fig, ax = plt.subplots(figsize=(2.5, 2.5))\n",
    "ax.matshow(conf_matrix1, cmap=plt.cm.Blues, alpha=0.3)\n",
    "for i in range(conf_matrix1.shape[0]):\n",
    "    for j in range(conf_matrix1.shape[1]):\n",
    "        ax.text(x=j, y=i,s=conf_matrix1[i, j], va='center', \n",
    "                ha='center', size='xx-large')\n",
    " \n",
    "plt.xlabel('Predictions', fontsize=18)\n",
    "plt.ylabel('Actuals', fontsize=18)\n",
    "plt.title('Confusion Matrix SVM', fontsize=18)\n",
    "plt.show()"
   ]
  }
 ],
 "metadata": {
  "kernelspec": {
   "display_name": "Python 3 (ipykernel)",
   "language": "python",
   "name": "python3"
  },
  "language_info": {
   "codemirror_mode": {
    "name": "ipython",
    "version": 3
   },
   "file_extension": ".py",
   "mimetype": "text/x-python",
   "name": "python",
   "nbconvert_exporter": "python",
   "pygments_lexer": "ipython3",
   "version": "3.10.9"
  }
 },
 "nbformat": 4,
 "nbformat_minor": 5
}
